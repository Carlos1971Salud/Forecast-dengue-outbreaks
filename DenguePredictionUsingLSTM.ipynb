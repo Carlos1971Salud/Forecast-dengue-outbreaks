{
 "cells": [
  {
   "cell_type": "code",
   "execution_count": 0,
   "metadata": {
    "colab": {},
    "colab_type": "code",
    "id": "yBsIRxsJOJyV"
   },
   "outputs": [],
   "source": [
    "import pandas as pd\n",
    "import matplotlib.pyplot as plt\n",
    "%matplotlib inline\n",
    "import seaborn as sns\n",
    "from sklearn import preprocessing\n",
    "from datetime import datetime\n",
    "import numpy as np\n"
   ]
  },
  {
   "cell_type": "code",
   "execution_count": 0,
   "metadata": {
    "colab": {},
    "colab_type": "code",
    "id": "CigB6o-IOZUY"
   },
   "outputs": [],
   "source": [
    "df = pd.read_csv(\"dengue_features_train.csv\")\n",
    "lables = pd.read_csv(\"dengue_labels_train.csv\")"
   ]
  },
  {
   "cell_type": "code",
   "execution_count": 0,
   "metadata": {
    "colab": {},
    "colab_type": "code",
    "id": "JFVM3bK7Oa-P"
   },
   "outputs": [],
   "source": [
    "data = pd.merge(df, lables, on = ['city', 'year', 'weekofyear'])"
   ]
  },
  {
   "cell_type": "code",
   "execution_count": null,
   "metadata": {
    "colab": {
     "base_uri": "https://localhost:8080/",
     "height": 226
    },
    "colab_type": "code",
    "executionInfo": {
     "elapsed": 553,
     "status": "ok",
     "timestamp": 1575324613277,
     "user": {
      "displayName": "Smit Anish Kiri",
      "photoUrl": "",
      "userId": "00496750762007332808"
     },
     "user_tz": 300
    },
    "id": "TTxaiVm0Oc8F",
    "outputId": "6b257e7d-a44d-47d1-90b5-78610f2bb843"
   },
   "outputs": [
    {
     "data": {
      "text/html": [
       "<div>\n",
       "<style scoped>\n",
       "    .dataframe tbody tr th:only-of-type {\n",
       "        vertical-align: middle;\n",
       "    }\n",
       "\n",
       "    .dataframe tbody tr th {\n",
       "        vertical-align: top;\n",
       "    }\n",
       "\n",
       "    .dataframe thead th {\n",
       "        text-align: right;\n",
       "    }\n",
       "</style>\n",
       "<table border=\"1\" class=\"dataframe\">\n",
       "  <thead>\n",
       "    <tr style=\"text-align: right;\">\n",
       "      <th></th>\n",
       "      <th>city</th>\n",
       "      <th>year</th>\n",
       "      <th>weekofyear</th>\n",
       "      <th>week_start_date</th>\n",
       "      <th>ndvi_ne</th>\n",
       "      <th>ndvi_nw</th>\n",
       "      <th>ndvi_se</th>\n",
       "      <th>ndvi_sw</th>\n",
       "      <th>precipitation_amt_mm</th>\n",
       "      <th>reanalysis_air_temp_k</th>\n",
       "      <th>reanalysis_avg_temp_k</th>\n",
       "      <th>reanalysis_dew_point_temp_k</th>\n",
       "      <th>reanalysis_max_air_temp_k</th>\n",
       "      <th>reanalysis_min_air_temp_k</th>\n",
       "      <th>reanalysis_precip_amt_kg_per_m2</th>\n",
       "      <th>reanalysis_relative_humidity_percent</th>\n",
       "      <th>reanalysis_sat_precip_amt_mm</th>\n",
       "      <th>reanalysis_specific_humidity_g_per_kg</th>\n",
       "      <th>reanalysis_tdtr_k</th>\n",
       "      <th>station_avg_temp_c</th>\n",
       "      <th>station_diur_temp_rng_c</th>\n",
       "      <th>station_max_temp_c</th>\n",
       "      <th>station_min_temp_c</th>\n",
       "      <th>station_precip_mm</th>\n",
       "      <th>total_cases</th>\n",
       "    </tr>\n",
       "  </thead>\n",
       "  <tbody>\n",
       "    <tr>\n",
       "      <th>0</th>\n",
       "      <td>sj</td>\n",
       "      <td>1990</td>\n",
       "      <td>18</td>\n",
       "      <td>1990-04-30</td>\n",
       "      <td>0.122600</td>\n",
       "      <td>0.103725</td>\n",
       "      <td>0.198483</td>\n",
       "      <td>0.177617</td>\n",
       "      <td>12.42</td>\n",
       "      <td>297.572857</td>\n",
       "      <td>297.742857</td>\n",
       "      <td>292.414286</td>\n",
       "      <td>299.8</td>\n",
       "      <td>295.9</td>\n",
       "      <td>32.00</td>\n",
       "      <td>73.365714</td>\n",
       "      <td>12.42</td>\n",
       "      <td>14.012857</td>\n",
       "      <td>2.628571</td>\n",
       "      <td>25.442857</td>\n",
       "      <td>6.900000</td>\n",
       "      <td>29.4</td>\n",
       "      <td>20.0</td>\n",
       "      <td>16.0</td>\n",
       "      <td>4</td>\n",
       "    </tr>\n",
       "    <tr>\n",
       "      <th>1</th>\n",
       "      <td>sj</td>\n",
       "      <td>1990</td>\n",
       "      <td>19</td>\n",
       "      <td>1990-05-07</td>\n",
       "      <td>0.169900</td>\n",
       "      <td>0.142175</td>\n",
       "      <td>0.162357</td>\n",
       "      <td>0.155486</td>\n",
       "      <td>22.82</td>\n",
       "      <td>298.211429</td>\n",
       "      <td>298.442857</td>\n",
       "      <td>293.951429</td>\n",
       "      <td>300.9</td>\n",
       "      <td>296.4</td>\n",
       "      <td>17.94</td>\n",
       "      <td>77.368571</td>\n",
       "      <td>22.82</td>\n",
       "      <td>15.372857</td>\n",
       "      <td>2.371429</td>\n",
       "      <td>26.714286</td>\n",
       "      <td>6.371429</td>\n",
       "      <td>31.7</td>\n",
       "      <td>22.2</td>\n",
       "      <td>8.6</td>\n",
       "      <td>5</td>\n",
       "    </tr>\n",
       "    <tr>\n",
       "      <th>2</th>\n",
       "      <td>sj</td>\n",
       "      <td>1990</td>\n",
       "      <td>20</td>\n",
       "      <td>1990-05-14</td>\n",
       "      <td>0.032250</td>\n",
       "      <td>0.172967</td>\n",
       "      <td>0.157200</td>\n",
       "      <td>0.170843</td>\n",
       "      <td>34.54</td>\n",
       "      <td>298.781429</td>\n",
       "      <td>298.878571</td>\n",
       "      <td>295.434286</td>\n",
       "      <td>300.5</td>\n",
       "      <td>297.3</td>\n",
       "      <td>26.10</td>\n",
       "      <td>82.052857</td>\n",
       "      <td>34.54</td>\n",
       "      <td>16.848571</td>\n",
       "      <td>2.300000</td>\n",
       "      <td>26.714286</td>\n",
       "      <td>6.485714</td>\n",
       "      <td>32.2</td>\n",
       "      <td>22.8</td>\n",
       "      <td>41.4</td>\n",
       "      <td>4</td>\n",
       "    </tr>\n",
       "    <tr>\n",
       "      <th>3</th>\n",
       "      <td>sj</td>\n",
       "      <td>1990</td>\n",
       "      <td>21</td>\n",
       "      <td>1990-05-21</td>\n",
       "      <td>0.128633</td>\n",
       "      <td>0.245067</td>\n",
       "      <td>0.227557</td>\n",
       "      <td>0.235886</td>\n",
       "      <td>15.36</td>\n",
       "      <td>298.987143</td>\n",
       "      <td>299.228571</td>\n",
       "      <td>295.310000</td>\n",
       "      <td>301.4</td>\n",
       "      <td>297.0</td>\n",
       "      <td>13.90</td>\n",
       "      <td>80.337143</td>\n",
       "      <td>15.36</td>\n",
       "      <td>16.672857</td>\n",
       "      <td>2.428571</td>\n",
       "      <td>27.471429</td>\n",
       "      <td>6.771429</td>\n",
       "      <td>33.3</td>\n",
       "      <td>23.3</td>\n",
       "      <td>4.0</td>\n",
       "      <td>3</td>\n",
       "    </tr>\n",
       "    <tr>\n",
       "      <th>4</th>\n",
       "      <td>sj</td>\n",
       "      <td>1990</td>\n",
       "      <td>22</td>\n",
       "      <td>1990-05-28</td>\n",
       "      <td>0.196200</td>\n",
       "      <td>0.262200</td>\n",
       "      <td>0.251200</td>\n",
       "      <td>0.247340</td>\n",
       "      <td>7.52</td>\n",
       "      <td>299.518571</td>\n",
       "      <td>299.664286</td>\n",
       "      <td>295.821429</td>\n",
       "      <td>301.9</td>\n",
       "      <td>297.5</td>\n",
       "      <td>12.20</td>\n",
       "      <td>80.460000</td>\n",
       "      <td>7.52</td>\n",
       "      <td>17.210000</td>\n",
       "      <td>3.014286</td>\n",
       "      <td>28.942857</td>\n",
       "      <td>9.371429</td>\n",
       "      <td>35.0</td>\n",
       "      <td>23.9</td>\n",
       "      <td>5.8</td>\n",
       "      <td>6</td>\n",
       "    </tr>\n",
       "  </tbody>\n",
       "</table>\n",
       "</div>"
      ],
      "text/plain": [
       "  city  year  weekofyear  ... station_min_temp_c  station_precip_mm  total_cases\n",
       "0   sj  1990          18  ...               20.0               16.0            4\n",
       "1   sj  1990          19  ...               22.2                8.6            5\n",
       "2   sj  1990          20  ...               22.8               41.4            4\n",
       "3   sj  1990          21  ...               23.3                4.0            3\n",
       "4   sj  1990          22  ...               23.9                5.8            6\n",
       "\n",
       "[5 rows x 25 columns]"
      ]
     },
     "execution_count": 37,
     "metadata": {
      "tags": []
     },
     "output_type": "execute_result"
    }
   ],
   "source": [
    "data.head()"
   ]
  },
  {
   "cell_type": "code",
   "execution_count": 0,
   "metadata": {
    "colab": {},
    "colab_type": "code",
    "id": "XMbInQz4OfkG"
   },
   "outputs": [],
   "source": [
    "sj = data[data['city'] == 'sj']\n",
    "sj = sj.drop('city', axis=1)\n",
    "\n",
    "iq = data[data['city'] == 'iq']\n",
    "iq = iq.drop('city', axis=1)"
   ]
  },
  {
   "cell_type": "code",
   "execution_count": 0,
   "metadata": {
    "colab": {},
    "colab_type": "code",
    "id": "iGUdP9gBOmGt"
   },
   "outputs": [],
   "source": [
    "sj['week_start_date'] = pd.to_datetime(sj['week_start_date'])\n",
    "\n",
    "iq['week_start_date'] = pd.to_datetime(iq['week_start_date'])"
   ]
  },
  {
   "cell_type": "code",
   "execution_count": null,
   "metadata": {
    "colab": {
     "base_uri": "https://localhost:8080/",
     "height": 88
    },
    "colab_type": "code",
    "executionInfo": {
     "elapsed": 633,
     "status": "ok",
     "timestamp": 1575324615871,
     "user": {
      "displayName": "Smit Anish Kiri",
      "photoUrl": "",
      "userId": "00496750762007332808"
     },
     "user_tz": 300
    },
    "id": "MYDz_6HKPCBB",
    "outputId": "5ab15625-1fa4-45a3-b7c8-0bace0efa442"
   },
   "outputs": [
    {
     "data": {
      "text/plain": [
       "(Timestamp('2008-04-22 00:00:00'),\n",
       " Timestamp('1990-04-30 00:00:00'),\n",
       " Timestamp('2010-06-25 00:00:00'),\n",
       " Timestamp('2000-07-01 00:00:00'))"
      ]
     },
     "execution_count": 40,
     "metadata": {
      "tags": []
     },
     "output_type": "execute_result"
    }
   ],
   "source": [
    "max(sj['week_start_date']), min(sj['week_start_date']), max(iq['week_start_date']), min(iq['week_start_date'])"
   ]
  },
  {
   "cell_type": "code",
   "execution_count": 0,
   "metadata": {
    "colab": {},
    "colab_type": "code",
    "id": "LKk9OaeNN_2V"
   },
   "outputs": [],
   "source": [
    "sj.index = sj['week_start_date']\n",
    "\n",
    "iq.index = iq['week_start_date']"
   ]
  },
  {
   "cell_type": "code",
   "execution_count": 0,
   "metadata": {
    "colab": {},
    "colab_type": "code",
    "id": "Fd7vDRecPFbx"
   },
   "outputs": [],
   "source": [
    "train_sj = sj.iloc[:800]\n",
    "\n",
    "train_iq = iq.iloc[:400]"
   ]
  },
  {
   "cell_type": "code",
   "execution_count": 0,
   "metadata": {
    "colab": {},
    "colab_type": "code",
    "id": "8O9ePzO-Poxv"
   },
   "outputs": [],
   "source": [
    "test_sj = sj.iloc[793:]\n",
    "\n",
    "test_iq = iq.iloc[393:]"
   ]
  },
  {
   "cell_type": "code",
   "execution_count": 0,
   "metadata": {
    "colab": {},
    "colab_type": "code",
    "id": "OemfHJsMPt4Z"
   },
   "outputs": [],
   "source": [
    "train_sj = train_sj.drop('week_start_date', axis=1)\n",
    "test_sj = test_sj.drop('week_start_date', axis=1)\n",
    "\n",
    "train_iq = train_iq.drop('week_start_date', axis=1)\n",
    "test_iq = test_iq.drop('week_start_date', axis=1)"
   ]
  },
  {
   "cell_type": "code",
   "execution_count": 0,
   "metadata": {
    "colab": {},
    "colab_type": "code",
    "id": "vRPgNegPP1tE"
   },
   "outputs": [],
   "source": [
    "train_sj = train_sj.drop(['precipitation_amt_mm', 'reanalysis_air_temp_k', 'reanalysis_avg_temp_k', 'reanalysis_max_air_temp_k', 'reanalysis_min_air_temp_k',\n",
    "                    'reanalysis_precip_amt_kg_per_m2', 'reanalysis_sat_precip_amt_mm', 'ndvi_ne', 'ndvi_nw', 'ndvi_se', 'ndvi_sw', 'reanalysis_tdtr_k'],\n",
    "                     axis=1)\n",
    "test_sj = test_sj.drop(['precipitation_amt_mm', 'reanalysis_air_temp_k', 'reanalysis_avg_temp_k', 'reanalysis_max_air_temp_k', 'reanalysis_min_air_temp_k',\n",
    "                    'reanalysis_precip_amt_kg_per_m2', 'reanalysis_sat_precip_amt_mm', 'ndvi_ne', 'ndvi_nw', 'ndvi_se', 'ndvi_sw', 'reanalysis_tdtr_k'], \n",
    "                    axis=1)\n",
    "\n",
    "train_iq = train_iq.drop(['precipitation_amt_mm', 'reanalysis_air_temp_k', 'reanalysis_avg_temp_k', 'reanalysis_max_air_temp_k', 'reanalysis_min_air_temp_k',\n",
    "                    'reanalysis_precip_amt_kg_per_m2', 'reanalysis_sat_precip_amt_mm', 'ndvi_ne', 'ndvi_nw', 'ndvi_se', 'ndvi_sw', 'reanalysis_tdtr_k'],\n",
    "                     axis=1)\n",
    "test_iq = test_iq.drop(['precipitation_amt_mm', 'reanalysis_air_temp_k', 'reanalysis_avg_temp_k', 'reanalysis_max_air_temp_k', 'reanalysis_min_air_temp_k',\n",
    "                    'reanalysis_precip_amt_kg_per_m2', 'reanalysis_sat_precip_amt_mm', 'ndvi_ne', 'ndvi_nw', 'ndvi_se', 'ndvi_sw', 'reanalysis_tdtr_k'],\n",
    "                     axis=1)\n"
   ]
  },
  {
   "cell_type": "code",
   "execution_count": 0,
   "metadata": {
    "colab": {},
    "colab_type": "code",
    "id": "FtfY6_MbP-oO"
   },
   "outputs": [],
   "source": [
    "X_train_sj = train_sj\n",
    "y_train_sj = train_sj['total_cases']\n",
    "\n",
    "X_train_iq = train_iq\n",
    "y_train_iq = train_iq['total_cases']"
   ]
  },
  {
   "cell_type": "code",
   "execution_count": 0,
   "metadata": {
    "colab": {},
    "colab_type": "code",
    "id": "4qdWt_ZHQneM"
   },
   "outputs": [],
   "source": [
    "X_test_sj = test_sj\n",
    "y_test_sj = test_sj['total_cases']\n",
    "\n",
    "X_test_iq = test_iq\n",
    "y_test_iq = test_iq['total_cases']"
   ]
  },
  {
   "cell_type": "code",
   "execution_count": 0,
   "metadata": {
    "colab": {},
    "colab_type": "code",
    "id": "U9KgWEs4REog"
   },
   "outputs": [],
   "source": [
    "X_train_sj.fillna(0, inplace=True)\n",
    "X_train_iq.fillna(0, inplace=True)\n",
    "\n",
    "X_test_sj.fillna(0, inplace=True)\n",
    "X_test_iq.fillna(0, inplace=True)"
   ]
  },
  {
   "cell_type": "code",
   "execution_count": null,
   "metadata": {
    "colab": {
     "base_uri": "https://localhost:8080/",
     "height": 258
    },
    "colab_type": "code",
    "executionInfo": {
     "elapsed": 1149,
     "status": "ok",
     "timestamp": 1575324622572,
     "user": {
      "displayName": "Smit Anish Kiri",
      "photoUrl": "",
      "userId": "00496750762007332808"
     },
     "user_tz": 300
    },
    "id": "jVHyYVe_OJwB",
    "outputId": "f9cb28d1-f916-40f7-843e-b8b7c180e30f"
   },
   "outputs": [
    {
     "data": {
      "text/html": [
       "<div>\n",
       "<style scoped>\n",
       "    .dataframe tbody tr th:only-of-type {\n",
       "        vertical-align: middle;\n",
       "    }\n",
       "\n",
       "    .dataframe tbody tr th {\n",
       "        vertical-align: top;\n",
       "    }\n",
       "\n",
       "    .dataframe thead th {\n",
       "        text-align: right;\n",
       "    }\n",
       "</style>\n",
       "<table border=\"1\" class=\"dataframe\">\n",
       "  <thead>\n",
       "    <tr style=\"text-align: right;\">\n",
       "      <th></th>\n",
       "      <th>year</th>\n",
       "      <th>weekofyear</th>\n",
       "      <th>reanalysis_dew_point_temp_k</th>\n",
       "      <th>reanalysis_relative_humidity_percent</th>\n",
       "      <th>reanalysis_specific_humidity_g_per_kg</th>\n",
       "      <th>station_avg_temp_c</th>\n",
       "      <th>station_diur_temp_rng_c</th>\n",
       "      <th>station_max_temp_c</th>\n",
       "      <th>station_min_temp_c</th>\n",
       "      <th>station_precip_mm</th>\n",
       "      <th>total_cases</th>\n",
       "    </tr>\n",
       "    <tr>\n",
       "      <th>week_start_date</th>\n",
       "      <th></th>\n",
       "      <th></th>\n",
       "      <th></th>\n",
       "      <th></th>\n",
       "      <th></th>\n",
       "      <th></th>\n",
       "      <th></th>\n",
       "      <th></th>\n",
       "      <th></th>\n",
       "      <th></th>\n",
       "      <th></th>\n",
       "    </tr>\n",
       "  </thead>\n",
       "  <tbody>\n",
       "    <tr>\n",
       "      <th>1990-04-30</th>\n",
       "      <td>1990</td>\n",
       "      <td>18</td>\n",
       "      <td>292.414286</td>\n",
       "      <td>73.365714</td>\n",
       "      <td>14.012857</td>\n",
       "      <td>25.442857</td>\n",
       "      <td>6.900000</td>\n",
       "      <td>29.4</td>\n",
       "      <td>20.0</td>\n",
       "      <td>16.0</td>\n",
       "      <td>4</td>\n",
       "    </tr>\n",
       "    <tr>\n",
       "      <th>1990-05-07</th>\n",
       "      <td>1990</td>\n",
       "      <td>19</td>\n",
       "      <td>293.951429</td>\n",
       "      <td>77.368571</td>\n",
       "      <td>15.372857</td>\n",
       "      <td>26.714286</td>\n",
       "      <td>6.371429</td>\n",
       "      <td>31.7</td>\n",
       "      <td>22.2</td>\n",
       "      <td>8.6</td>\n",
       "      <td>5</td>\n",
       "    </tr>\n",
       "    <tr>\n",
       "      <th>1990-05-14</th>\n",
       "      <td>1990</td>\n",
       "      <td>20</td>\n",
       "      <td>295.434286</td>\n",
       "      <td>82.052857</td>\n",
       "      <td>16.848571</td>\n",
       "      <td>26.714286</td>\n",
       "      <td>6.485714</td>\n",
       "      <td>32.2</td>\n",
       "      <td>22.8</td>\n",
       "      <td>41.4</td>\n",
       "      <td>4</td>\n",
       "    </tr>\n",
       "    <tr>\n",
       "      <th>1990-05-21</th>\n",
       "      <td>1990</td>\n",
       "      <td>21</td>\n",
       "      <td>295.310000</td>\n",
       "      <td>80.337143</td>\n",
       "      <td>16.672857</td>\n",
       "      <td>27.471429</td>\n",
       "      <td>6.771429</td>\n",
       "      <td>33.3</td>\n",
       "      <td>23.3</td>\n",
       "      <td>4.0</td>\n",
       "      <td>3</td>\n",
       "    </tr>\n",
       "    <tr>\n",
       "      <th>1990-05-28</th>\n",
       "      <td>1990</td>\n",
       "      <td>22</td>\n",
       "      <td>295.821429</td>\n",
       "      <td>80.460000</td>\n",
       "      <td>17.210000</td>\n",
       "      <td>28.942857</td>\n",
       "      <td>9.371429</td>\n",
       "      <td>35.0</td>\n",
       "      <td>23.9</td>\n",
       "      <td>5.8</td>\n",
       "      <td>6</td>\n",
       "    </tr>\n",
       "  </tbody>\n",
       "</table>\n",
       "</div>"
      ],
      "text/plain": [
       "                 year  weekofyear  ...  station_precip_mm  total_cases\n",
       "week_start_date                    ...                                \n",
       "1990-04-30       1990          18  ...               16.0            4\n",
       "1990-05-07       1990          19  ...                8.6            5\n",
       "1990-05-14       1990          20  ...               41.4            4\n",
       "1990-05-21       1990          21  ...                4.0            3\n",
       "1990-05-28       1990          22  ...                5.8            6\n",
       "\n",
       "[5 rows x 11 columns]"
      ]
     },
     "execution_count": 49,
     "metadata": {
      "tags": []
     },
     "output_type": "execute_result"
    }
   ],
   "source": [
    "X_train_sj.head()"
   ]
  },
  {
   "cell_type": "code",
   "execution_count": null,
   "metadata": {
    "colab": {
     "base_uri": "https://localhost:8080/",
     "height": 35
    },
    "colab_type": "code",
    "executionInfo": {
     "elapsed": 792,
     "status": "ok",
     "timestamp": 1575324624667,
     "user": {
      "displayName": "Smit Anish Kiri",
      "photoUrl": "",
      "userId": "00496750762007332808"
     },
     "user_tz": 300
    },
    "id": "zXvjDkeWL6Sv",
    "outputId": "21419bd2-e94e-4c32-a63b-6171dd3f01bf"
   },
   "outputs": [
    {
     "data": {
      "text/plain": [
       "((800, 11), (400, 11))"
      ]
     },
     "execution_count": 50,
     "metadata": {
      "tags": []
     },
     "output_type": "execute_result"
    }
   ],
   "source": [
    "X_train_sj.shape, X_train_iq.shape"
   ]
  },
  {
   "cell_type": "code",
   "execution_count": 0,
   "metadata": {
    "colab": {},
    "colab_type": "code",
    "id": "Sa7J7o7WROqK"
   },
   "outputs": [],
   "source": [
    "for col in X_train_sj.columns:\n",
    "  X_train_sj[col] = preprocessing.scale(X_train_sj[col].values)\n",
    "  X_test_sj[col] = preprocessing.scale(X_test_sj[col].values)\n",
    "\n",
    "for col in X_train_iq.columns:\n",
    "  X_train_iq[col] = preprocessing.scale(X_train_iq[col].values)\n",
    "  X_test_iq[col] = preprocessing.scale(X_test_iq[col].values)"
   ]
  },
  {
   "cell_type": "code",
   "execution_count": null,
   "metadata": {
    "colab": {
     "base_uri": "https://localhost:8080/",
     "height": 258
    },
    "colab_type": "code",
    "executionInfo": {
     "elapsed": 719,
     "status": "ok",
     "timestamp": 1575324629675,
     "user": {
      "displayName": "Smit Anish Kiri",
      "photoUrl": "",
      "userId": "00496750762007332808"
     },
     "user_tz": 300
    },
    "id": "4gqpYSWzSAIO",
    "outputId": "640eb8a8-33f6-49e2-bf8b-ba54f4dbee86"
   },
   "outputs": [
    {
     "data": {
      "text/html": [
       "<div>\n",
       "<style scoped>\n",
       "    .dataframe tbody tr th:only-of-type {\n",
       "        vertical-align: middle;\n",
       "    }\n",
       "\n",
       "    .dataframe tbody tr th {\n",
       "        vertical-align: top;\n",
       "    }\n",
       "\n",
       "    .dataframe thead th {\n",
       "        text-align: right;\n",
       "    }\n",
       "</style>\n",
       "<table border=\"1\" class=\"dataframe\">\n",
       "  <thead>\n",
       "    <tr style=\"text-align: right;\">\n",
       "      <th></th>\n",
       "      <th>year</th>\n",
       "      <th>weekofyear</th>\n",
       "      <th>reanalysis_dew_point_temp_k</th>\n",
       "      <th>reanalysis_relative_humidity_percent</th>\n",
       "      <th>reanalysis_specific_humidity_g_per_kg</th>\n",
       "      <th>station_avg_temp_c</th>\n",
       "      <th>station_diur_temp_rng_c</th>\n",
       "      <th>station_max_temp_c</th>\n",
       "      <th>station_min_temp_c</th>\n",
       "      <th>station_precip_mm</th>\n",
       "      <th>total_cases</th>\n",
       "    </tr>\n",
       "    <tr>\n",
       "      <th>week_start_date</th>\n",
       "      <th></th>\n",
       "      <th></th>\n",
       "      <th></th>\n",
       "      <th></th>\n",
       "      <th></th>\n",
       "      <th></th>\n",
       "      <th></th>\n",
       "      <th></th>\n",
       "      <th></th>\n",
       "      <th></th>\n",
       "      <th></th>\n",
       "    </tr>\n",
       "  </thead>\n",
       "  <tbody>\n",
       "    <tr>\n",
       "      <th>1990-04-30</th>\n",
       "      <td>-1.687599</td>\n",
       "      <td>-0.574522</td>\n",
       "      <td>-0.019041</td>\n",
       "      <td>-0.651243</td>\n",
       "      <td>-1.148243</td>\n",
       "      <td>-0.510123</td>\n",
       "      <td>0.150730</td>\n",
       "      <td>-0.629886</td>\n",
       "      <td>-0.983822</td>\n",
       "      <td>-0.348505</td>\n",
       "      <td>-0.589953</td>\n",
       "    </tr>\n",
       "    <tr>\n",
       "      <th>1990-05-07</th>\n",
       "      <td>-1.687599</td>\n",
       "      <td>-0.507307</td>\n",
       "      <td>0.041217</td>\n",
       "      <td>-0.124100</td>\n",
       "      <td>-0.502674</td>\n",
       "      <td>-0.041190</td>\n",
       "      <td>-0.367579</td>\n",
       "      <td>0.089582</td>\n",
       "      <td>-0.091926</td>\n",
       "      <td>-0.604207</td>\n",
       "      <td>-0.571438</td>\n",
       "    </tr>\n",
       "    <tr>\n",
       "      <th>1990-05-14</th>\n",
       "      <td>-1.687599</td>\n",
       "      <td>-0.440091</td>\n",
       "      <td>0.099347</td>\n",
       "      <td>0.492782</td>\n",
       "      <td>0.197821</td>\n",
       "      <td>-0.041190</td>\n",
       "      <td>-0.255512</td>\n",
       "      <td>0.245988</td>\n",
       "      <td>0.151318</td>\n",
       "      <td>0.529172</td>\n",
       "      <td>-0.589953</td>\n",
       "    </tr>\n",
       "    <tr>\n",
       "      <th>1990-05-21</th>\n",
       "      <td>-1.687599</td>\n",
       "      <td>-0.372876</td>\n",
       "      <td>0.094475</td>\n",
       "      <td>0.266837</td>\n",
       "      <td>0.114413</td>\n",
       "      <td>0.238062</td>\n",
       "      <td>0.024655</td>\n",
       "      <td>0.590081</td>\n",
       "      <td>0.354022</td>\n",
       "      <td>-0.763156</td>\n",
       "      <td>-0.608467</td>\n",
       "    </tr>\n",
       "    <tr>\n",
       "      <th>1990-05-28</th>\n",
       "      <td>-1.687599</td>\n",
       "      <td>-0.305661</td>\n",
       "      <td>0.114524</td>\n",
       "      <td>0.283016</td>\n",
       "      <td>0.369385</td>\n",
       "      <td>0.780760</td>\n",
       "      <td>2.574175</td>\n",
       "      <td>1.121861</td>\n",
       "      <td>0.597266</td>\n",
       "      <td>-0.700959</td>\n",
       "      <td>-0.552923</td>\n",
       "    </tr>\n",
       "  </tbody>\n",
       "</table>\n",
       "</div>"
      ],
      "text/plain": [
       "                     year  weekofyear  ...  station_precip_mm  total_cases\n",
       "week_start_date                        ...                                \n",
       "1990-04-30      -1.687599   -0.574522  ...          -0.348505    -0.589953\n",
       "1990-05-07      -1.687599   -0.507307  ...          -0.604207    -0.571438\n",
       "1990-05-14      -1.687599   -0.440091  ...           0.529172    -0.589953\n",
       "1990-05-21      -1.687599   -0.372876  ...          -0.763156    -0.608467\n",
       "1990-05-28      -1.687599   -0.305661  ...          -0.700959    -0.552923\n",
       "\n",
       "[5 rows x 11 columns]"
      ]
     },
     "execution_count": 52,
     "metadata": {
      "tags": []
     },
     "output_type": "execute_result"
    }
   ],
   "source": [
    "X_train_sj.head()"
   ]
  },
  {
   "cell_type": "code",
   "execution_count": 0,
   "metadata": {
    "colab": {},
    "colab_type": "code",
    "id": "DaJguH0tSO2R"
   },
   "outputs": [],
   "source": [
    "sj_train_dates = X_train_sj.index\n",
    "X_train_sj = X_train_sj.values\n",
    "sj_train_x, sj_train_y = [], []\n",
    "for i in range(7,len(X_train_sj)):\n",
    "    sj_train_x.append(X_train_sj[i-7:i])\n",
    "    sj_train_y.append(y_train_sj[i])\n",
    "sj_train_x, sj_train_y = np.array(sj_train_x), np.array(sj_train_y)\n",
    "\n",
    "iq_train_dates = X_train_iq.index\n",
    "X_train_iq = X_train_iq.values\n",
    "iq_train_x, iq_train_y = [], []\n",
    "for i in range(7,len(X_train_iq)):\n",
    "    iq_train_x.append(X_train_iq[i-7:i])\n",
    "    iq_train_y.append(y_train_iq[i])\n",
    "iq_train_x, iq_train_y = np.array(iq_train_x), np.array(iq_train_y)\n",
    "\n"
   ]
  },
  {
   "cell_type": "code",
   "execution_count": null,
   "metadata": {
    "colab": {
     "base_uri": "https://localhost:8080/",
     "height": 35
    },
    "colab_type": "code",
    "executionInfo": {
     "elapsed": 281,
     "status": "ok",
     "timestamp": 1575324633634,
     "user": {
      "displayName": "Smit Anish Kiri",
      "photoUrl": "",
      "userId": "00496750762007332808"
     },
     "user_tz": 300
    },
    "id": "XLKgsnIfeY_7",
    "outputId": "dce18c00-5f4d-4929-b8d0-ed88d94f0d04"
   },
   "outputs": [
    {
     "data": {
      "text/plain": [
       "(793, 7, 11)"
      ]
     },
     "execution_count": 54,
     "metadata": {
      "tags": []
     },
     "output_type": "execute_result"
    }
   ],
   "source": [
    "sj_train_x.shape"
   ]
  },
  {
   "cell_type": "code",
   "execution_count": null,
   "metadata": {
    "colab": {
     "base_uri": "https://localhost:8080/",
     "height": 35
    },
    "colab_type": "code",
    "executionInfo": {
     "elapsed": 571,
     "status": "ok",
     "timestamp": 1575324634405,
     "user": {
      "displayName": "Smit Anish Kiri",
      "photoUrl": "",
      "userId": "00496750762007332808"
     },
     "user_tz": 300
    },
    "id": "aNAG4lPSTFH5",
    "outputId": "f8e9333e-46c1-4c08-8aea-d827b2336c21"
   },
   "outputs": [
    {
     "data": {
      "text/plain": [
       "((793, 7, 11), (793,))"
      ]
     },
     "execution_count": 55,
     "metadata": {
      "tags": []
     },
     "output_type": "execute_result"
    }
   ],
   "source": [
    "sj_train_x.shape, sj_train_y.shape"
   ]
  },
  {
   "cell_type": "code",
   "execution_count": 0,
   "metadata": {
    "colab": {},
    "colab_type": "code",
    "id": "bYU4nbpSTZRZ"
   },
   "outputs": [],
   "source": [
    "from keras.models import Sequential\n",
    "from keras.layers import Dense, LSTM, Dropout"
   ]
  },
  {
   "cell_type": "code",
   "execution_count": 0,
   "metadata": {
    "colab": {},
    "colab_type": "code",
    "id": "lu02kGSoTSMl"
   },
   "outputs": [],
   "source": [
    "model_sj = Sequential()\n",
    "model_sj.add(LSTM(units=50, return_sequences=True, input_shape=(sj_train_x.shape[1], sj_train_x.shape[2])))\n",
    "model_sj.add(LSTM(units=50))\n",
    "model_sj.add(Dense(1))"
   ]
  },
  {
   "cell_type": "code",
   "execution_count": null,
   "metadata": {
    "colab": {
     "base_uri": "https://localhost:8080/",
     "height": 73
    },
    "colab_type": "code",
    "executionInfo": {
     "elapsed": 629,
     "status": "ok",
     "timestamp": 1575324035357,
     "user": {
      "displayName": "Smit Anish Kiri",
      "photoUrl": "",
      "userId": "00496750762007332808"
     },
     "user_tz": 300
    },
    "id": "j12ZJ5VuTYT8",
    "outputId": "795a7c5f-c874-4832-dd1a-82a4a8afbe96"
   },
   "outputs": [
    {
     "name": "stdout",
     "output_type": "stream",
     "text": [
      "WARNING:tensorflow:From /usr/local/lib/python3.6/dist-packages/keras/optimizers.py:793: The name tf.train.Optimizer is deprecated. Please use tf.compat.v1.train.Optimizer instead.\n",
      "\n"
     ]
    }
   ],
   "source": [
    "model_sj.compile(loss='mean_squared_error', optimizer='adam', metrics = ['mae'])"
   ]
  },
  {
   "cell_type": "code",
   "execution_count": null,
   "metadata": {
    "colab": {
     "base_uri": "https://localhost:8080/",
     "height": 1000
    },
    "colab_type": "code",
    "executionInfo": {
     "elapsed": 334441,
     "status": "ok",
     "timestamp": 1575324372556,
     "user": {
      "displayName": "Smit Anish Kiri",
      "photoUrl": "",
      "userId": "00496750762007332808"
     },
     "user_tz": 300
    },
    "id": "vwF8TgEoTkGB",
    "outputId": "fa73a124-1934-4118-9931-00f915fef68d"
   },
   "outputs": [
    {
     "name": "stdout",
     "output_type": "stream",
     "text": [
      "WARNING:tensorflow:From /usr/local/lib/python3.6/dist-packages/tensorflow_core/python/ops/math_grad.py:1424: where (from tensorflow.python.ops.array_ops) is deprecated and will be removed in a future version.\n",
      "Instructions for updating:\n",
      "Use tf.where in 2.0, which has the same broadcast rule as np.where\n",
      "WARNING:tensorflow:From /usr/local/lib/python3.6/dist-packages/keras/backend/tensorflow_backend.py:1033: The name tf.assign_add is deprecated. Please use tf.compat.v1.assign_add instead.\n",
      "\n",
      "WARNING:tensorflow:From /usr/local/lib/python3.6/dist-packages/keras/backend/tensorflow_backend.py:1020: The name tf.assign is deprecated. Please use tf.compat.v1.assign instead.\n",
      "\n",
      "WARNING:tensorflow:From /usr/local/lib/python3.6/dist-packages/keras/backend/tensorflow_backend.py:3005: The name tf.Session is deprecated. Please use tf.compat.v1.Session instead.\n",
      "\n",
      "Epoch 1/40\n",
      "WARNING:tensorflow:From /usr/local/lib/python3.6/dist-packages/keras/backend/tensorflow_backend.py:190: The name tf.get_default_session is deprecated. Please use tf.compat.v1.get_default_session instead.\n",
      "\n",
      "WARNING:tensorflow:From /usr/local/lib/python3.6/dist-packages/keras/backend/tensorflow_backend.py:197: The name tf.ConfigProto is deprecated. Please use tf.compat.v1.ConfigProto instead.\n",
      "\n",
      "WARNING:tensorflow:From /usr/local/lib/python3.6/dist-packages/keras/backend/tensorflow_backend.py:207: The name tf.global_variables is deprecated. Please use tf.compat.v1.global_variables instead.\n",
      "\n",
      "WARNING:tensorflow:From /usr/local/lib/python3.6/dist-packages/keras/backend/tensorflow_backend.py:216: The name tf.is_variable_initialized is deprecated. Please use tf.compat.v1.is_variable_initialized instead.\n",
      "\n",
      "WARNING:tensorflow:From /usr/local/lib/python3.6/dist-packages/keras/backend/tensorflow_backend.py:223: The name tf.variables_initializer is deprecated. Please use tf.compat.v1.variables_initializer instead.\n",
      "\n",
      "793/793 [==============================] - 10s 12ms/step - loss: 3386.3073 - mean_absolute_error: 26.4238\n",
      "Epoch 2/40\n",
      "793/793 [==============================] - 8s 10ms/step - loss: 2805.7584 - mean_absolute_error: 20.7231\n",
      "Epoch 3/40\n",
      "793/793 [==============================] - 8s 10ms/step - loss: 2484.5719 - mean_absolute_error: 18.2203\n",
      "Epoch 4/40\n",
      "793/793 [==============================] - 8s 11ms/step - loss: 2253.6248 - mean_absolute_error: 16.4298\n",
      "Epoch 5/40\n",
      "793/793 [==============================] - 8s 10ms/step - loss: 2066.8197 - mean_absolute_error: 15.1129\n",
      "Epoch 6/40\n",
      "793/793 [==============================] - 8s 10ms/step - loss: 1911.1121 - mean_absolute_error: 14.1665\n",
      "Epoch 7/40\n",
      "793/793 [==============================] - 8s 10ms/step - loss: 1789.6522 - mean_absolute_error: 13.6374\n",
      "Epoch 8/40\n",
      "793/793 [==============================] - 8s 10ms/step - loss: 1674.6376 - mean_absolute_error: 13.0028\n",
      "Epoch 9/40\n",
      "793/793 [==============================] - 8s 11ms/step - loss: 1568.6616 - mean_absolute_error: 12.4330\n",
      "Epoch 10/40\n",
      "793/793 [==============================] - 8s 10ms/step - loss: 1476.2434 - mean_absolute_error: 12.1028\n",
      "Epoch 11/40\n",
      "793/793 [==============================] - 8s 11ms/step - loss: 1389.9786 - mean_absolute_error: 11.6550\n",
      "Epoch 12/40\n",
      "793/793 [==============================] - 8s 10ms/step - loss: 1306.2512 - mean_absolute_error: 11.0420\n",
      "Epoch 13/40\n",
      "793/793 [==============================] - 8s 10ms/step - loss: 1236.8501 - mean_absolute_error: 10.8751\n",
      "Epoch 14/40\n",
      "793/793 [==============================] - 8s 10ms/step - loss: 1167.0043 - mean_absolute_error: 10.4982\n",
      "Epoch 15/40\n",
      "793/793 [==============================] - 8s 10ms/step - loss: 1111.7557 - mean_absolute_error: 10.2308\n",
      "Epoch 16/40\n",
      "793/793 [==============================] - 8s 11ms/step - loss: 1052.9198 - mean_absolute_error: 9.8152\n",
      "Epoch 17/40\n",
      "793/793 [==============================] - 8s 10ms/step - loss: 999.3774 - mean_absolute_error: 9.6437\n",
      "Epoch 18/40\n",
      "793/793 [==============================] - 8s 10ms/step - loss: 944.1546 - mean_absolute_error: 9.1939\n",
      "Epoch 19/40\n",
      "793/793 [==============================] - 8s 10ms/step - loss: 892.4757 - mean_absolute_error: 8.8979\n",
      "Epoch 20/40\n",
      "793/793 [==============================] - 8s 11ms/step - loss: 848.7622 - mean_absolute_error: 8.6329\n",
      "Epoch 21/40\n",
      "793/793 [==============================] - 8s 10ms/step - loss: 799.8703 - mean_absolute_error: 8.3109\n",
      "Epoch 22/40\n",
      "793/793 [==============================] - 8s 10ms/step - loss: 764.2016 - mean_absolute_error: 8.2067\n",
      "Epoch 23/40\n",
      "793/793 [==============================] - 8s 10ms/step - loss: 736.6762 - mean_absolute_error: 8.1543\n",
      "Epoch 24/40\n",
      "793/793 [==============================] - 8s 11ms/step - loss: 695.5154 - mean_absolute_error: 7.8598\n",
      "Epoch 25/40\n",
      "793/793 [==============================] - 8s 11ms/step - loss: 655.9640 - mean_absolute_error: 7.5873\n",
      "Epoch 26/40\n",
      "793/793 [==============================] - 8s 10ms/step - loss: 613.2904 - mean_absolute_error: 7.2632\n",
      "Epoch 27/40\n",
      "793/793 [==============================] - 8s 10ms/step - loss: 584.4919 - mean_absolute_error: 7.0988\n",
      "Epoch 28/40\n",
      "793/793 [==============================] - 8s 10ms/step - loss: 553.1721 - mean_absolute_error: 6.9241\n",
      "Epoch 29/40\n",
      "793/793 [==============================] - 8s 10ms/step - loss: 522.6060 - mean_absolute_error: 6.6211\n",
      "Epoch 30/40\n",
      "793/793 [==============================] - 8s 10ms/step - loss: 495.9998 - mean_absolute_error: 6.6104\n",
      "Epoch 31/40\n",
      "793/793 [==============================] - 8s 10ms/step - loss: 521.8338 - mean_absolute_error: 6.8488\n",
      "Epoch 32/40\n",
      "793/793 [==============================] - 8s 10ms/step - loss: 441.7885 - mean_absolute_error: 5.9117\n",
      "Epoch 33/40\n",
      "793/793 [==============================] - 8s 11ms/step - loss: 408.0091 - mean_absolute_error: 5.3711\n",
      "Epoch 34/40\n",
      "793/793 [==============================] - 8s 10ms/step - loss: 384.7634 - mean_absolute_error: 5.3245\n",
      "Epoch 35/40\n",
      "793/793 [==============================] - 8s 10ms/step - loss: 365.4579 - mean_absolute_error: 5.3322\n",
      "Epoch 36/40\n",
      "793/793 [==============================] - 8s 10ms/step - loss: 345.7571 - mean_absolute_error: 5.2899\n",
      "Epoch 37/40\n",
      "793/793 [==============================] - 8s 10ms/step - loss: 337.0356 - mean_absolute_error: 5.2779\n",
      "Epoch 38/40\n",
      "793/793 [==============================] - 8s 10ms/step - loss: 313.1715 - mean_absolute_error: 5.2826\n",
      "Epoch 39/40\n",
      "793/793 [==============================] - 8s 10ms/step - loss: 293.5585 - mean_absolute_error: 5.0240\n",
      "Epoch 40/40\n",
      "793/793 [==============================] - 8s 11ms/step - loss: 287.4852 - mean_absolute_error: 5.2765\n"
     ]
    },
    {
     "data": {
      "text/plain": [
       "<keras.callbacks.History at 0x7f9bed7e1f60>"
      ]
     },
     "execution_count": 30,
     "metadata": {
      "tags": []
     },
     "output_type": "execute_result"
    }
   ],
   "source": [
    "model_sj.fit(sj_train_x, sj_train_y, epochs=40, batch_size=1, verbose=1)"
   ]
  },
  {
   "cell_type": "code",
   "execution_count": 0,
   "metadata": {
    "colab": {},
    "colab_type": "code",
    "id": "8IDBFac4VQZv"
   },
   "outputs": [],
   "source": [
    "sj_test_dates = X_test_sj.index\n",
    "X_test_sj = X_test_sj.values\n",
    "y_test_sj = y_test_sj.values"
   ]
  },
  {
   "cell_type": "code",
   "execution_count": 0,
   "metadata": {
    "colab": {},
    "colab_type": "code",
    "id": "2UZF9CqUTqi3"
   },
   "outputs": [],
   "source": [
    "sj_test_x, sj_test_y = [], []\n",
    "for i in range(7,len(X_test_sj)):\n",
    "    sj_test_x.append(X_test_sj[i-7:i])\n",
    "    sj_test_y.append(y_test_sj[i])\n",
    "sj_test_x, sj_test_y = np.array(sj_test_x), np.array(sj_test_y)"
   ]
  },
  {
   "cell_type": "code",
   "execution_count": null,
   "metadata": {
    "colab": {
     "base_uri": "https://localhost:8080/",
     "height": 35
    },
    "colab_type": "code",
    "executionInfo": {
     "elapsed": 321057,
     "status": "ok",
     "timestamp": 1575324372765,
     "user": {
      "displayName": "Smit Anish Kiri",
      "photoUrl": "",
      "userId": "00496750762007332808"
     },
     "user_tz": 300
    },
    "id": "1TTBcTzPVak1",
    "outputId": "e402854f-0d1a-4076-cd65-18f5d68d61d7"
   },
   "outputs": [
    {
     "data": {
      "text/plain": [
       "(136, 7, 12)"
      ]
     },
     "execution_count": 33,
     "metadata": {
      "tags": []
     },
     "output_type": "execute_result"
    }
   ],
   "source": [
    "sj_test_x.shape"
   ]
  },
  {
   "cell_type": "code",
   "execution_count": 0,
   "metadata": {
    "colab": {},
    "colab_type": "code",
    "id": "GN7tVGOloY6c"
   },
   "outputs": [],
   "source": [
    "model_sj.evaluate(sj_test_x, )"
   ]
  },
  {
   "cell_type": "code",
   "execution_count": 0,
   "metadata": {
    "colab": {},
    "colab_type": "code",
    "id": "8kX0VvdbctJo"
   },
   "outputs": [],
   "source": [
    "y_pred_sj = model_sj.predict(sj_test_x)"
   ]
  },
  {
   "cell_type": "code",
   "execution_count": 0,
   "metadata": {
    "colab": {},
    "colab_type": "code",
    "id": "FfrhQ4i0QFuY"
   },
   "outputs": [],
   "source": [
    "y_pred_sj = [int(round(y,0)) for y in y_pred_sj[:,0]]"
   ]
  },
  {
   "cell_type": "code",
   "execution_count": 0,
   "metadata": {
    "colab": {},
    "colab_type": "code",
    "id": "s88OXuRm5q8P"
   },
   "outputs": [],
   "source": [
    "y_train_pred_sj = model_sj.predict(sj_train_x)\n",
    "y_train_pred_sj = [int(round(y,0)) for y in y_train_pred_sj[:,0]]"
   ]
  },
  {
   "cell_type": "code",
   "execution_count": 0,
   "metadata": {
    "colab": {
     "base_uri": "https://localhost:8080/",
     "height": 164
    },
    "colab_type": "code",
    "executionInfo": {
     "elapsed": 854,
     "status": "error",
     "timestamp": 1575313961167,
     "user": {
      "displayName": "Fenil Mukesh Shah",
      "photoUrl": "",
      "userId": "16310722189065142470"
     },
     "user_tz": 300
    },
    "id": "QOdo07HaByZ-",
    "outputId": "4d8d4474-dc14-4489-8e84-4c038fce397c"
   },
   "outputs": [
    {
     "ename": "NameError",
     "evalue": "ignored",
     "output_type": "error",
     "traceback": [
      "\u001b[0;31m---------------------------------------------------------------------------\u001b[0m",
      "\u001b[0;31mNameError\u001b[0m                                 Traceback (most recent call last)",
      "\u001b[0;32m<ipython-input-1-03d7eb7d98bd>\u001b[0m in \u001b[0;36m<module>\u001b[0;34m()\u001b[0m\n\u001b[0;32m----> 1\u001b[0;31m \u001b[0my_train_pred_sj\u001b[0m\u001b[0;34m.\u001b[0m\u001b[0mhead\u001b[0m\u001b[0;34m(\u001b[0m\u001b[0;34m)\u001b[0m\u001b[0;34m\u001b[0m\u001b[0;34m\u001b[0m\u001b[0m\n\u001b[0m",
      "\u001b[0;31mNameError\u001b[0m: name 'y_train_pred_sj' is not defined"
     ]
    }
   ],
   "source": [
    "y_train_pred_sj.head()"
   ]
  },
  {
   "cell_type": "code",
   "execution_count": 0,
   "metadata": {
    "colab": {
     "base_uri": "https://localhost:8080/",
     "height": 446
    },
    "colab_type": "code",
    "executionInfo": {
     "elapsed": 307016,
     "status": "ok",
     "timestamp": 1574901625914,
     "user": {
      "displayName": "Smit Kiri",
      "photoUrl": "https://lh3.googleusercontent.com/-oC3sDatMc6I/AAAAAAAAAAI/AAAAAAAAFIY/4-X3wk9oODk/s64/photo.jpg",
      "userId": "13362116092602570316"
     },
     "user_tz": 300
    },
    "id": "AKgpTLQTQo0j",
    "outputId": "8bb64e92-f140-4157-8b95-0a46ced46755"
   },
   "outputs": [
    {
     "data": {
      "text/plain": [
       "<matplotlib.legend.Legend at 0x7f94a77b3cc0>"
      ]
     },
     "execution_count": 77,
     "metadata": {
      "tags": []
     },
     "output_type": "execute_result"
    },
    {
     "data": {
      "image/png": "[encoded data removed]",
      "text/plain": [
       "<Figure size 1152x504 with 1 Axes>"
      ]
     },
     "metadata": {
      "tags": []
     },
     "output_type": "display_data"
    }
   ],
   "source": [
    "fig = plt.figure(figsize=(16,7))\n",
    "plt.plot(sj_train_dates, y_train_sj, label = \"Actual train\")\n",
    "plt.plot(sj_train_dates[7:], y_train_pred_sj, label = \"Predicted train\")\n",
    "plt.plot(sj_test_dates[7:], y_test_sj[7:], label = \"Actucal test\")\n",
    "plt.plot(sj_test_dates[7:], y_pred_sj, label = \"Predicted test\")\n",
    "plt.legend()"
   ]
  },
  {
   "cell_type": "code",
   "execution_count": 0,
   "metadata": {
    "colab": {},
    "colab_type": "code",
    "id": "_i0sH7MR4_VV"
   },
   "outputs": [],
   "source": [
    "model_iq = Sequential()\n",
    "model_iq.add(LSTM(units=50, return_sequences=True, input_shape=(iq_train_x.shape[1], iq_train_x.shape[2])))\n",
    "model_iq.add(LSTM(units=50))\n",
    "model_iq.add(Dense(1))"
   ]
  },
  {
   "cell_type": "code",
   "execution_count": 0,
   "metadata": {
    "colab": {},
    "colab_type": "code",
    "id": "lEa1UuJJQuXI"
   },
   "outputs": [],
   "source": [
    "model_iq.compile(loss='mean_squared_error', optimizer='adam')"
   ]
  },
  {
   "cell_type": "code",
   "execution_count": 0,
   "metadata": {
    "colab": {
     "base_uri": "https://localhost:8080/",
     "height": 928
    },
    "colab_type": "code",
    "executionInfo": {
     "elapsed": 98432,
     "status": "ok",
     "timestamp": 1574905240140,
     "user": {
      "displayName": "Smit Kiri",
      "photoUrl": "https://lh3.googleusercontent.com/-oC3sDatMc6I/AAAAAAAAAAI/AAAAAAAAFIY/4-X3wk9oODk/s64/photo.jpg",
      "userId": "13362116092602570316"
     },
     "user_tz": 300
    },
    "id": "cu_THfIucTuV",
    "outputId": "1c48bbc4-c647-4756-cc99-f95b772787f2"
   },
   "outputs": [
    {
     "name": "stdout",
     "output_type": "stream",
     "text": [
      "Epoch 1/25\n",
      "393/393 [==============================] - 6s 16ms/step - loss: 107.1259\n",
      "Epoch 2/25\n",
      "393/393 [==============================] - 4s 10ms/step - loss: 76.2952\n",
      "Epoch 3/25\n",
      "393/393 [==============================] - 4s 10ms/step - loss: 70.5348\n",
      "Epoch 4/25\n",
      "393/393 [==============================] - 4s 10ms/step - loss: 62.8535\n",
      "Epoch 5/25\n",
      "393/393 [==============================] - 4s 10ms/step - loss: 58.8751\n",
      "Epoch 6/25\n",
      "393/393 [==============================] - 4s 9ms/step - loss: 59.3402\n",
      "Epoch 7/25\n",
      "393/393 [==============================] - 4s 9ms/step - loss: 54.7960\n",
      "Epoch 8/25\n",
      "393/393 [==============================] - 4s 10ms/step - loss: 53.3307\n",
      "Epoch 9/25\n",
      "393/393 [==============================] - 4s 9ms/step - loss: 51.1735\n",
      "Epoch 10/25\n",
      "393/393 [==============================] - 4s 9ms/step - loss: 49.4883\n",
      "Epoch 11/25\n",
      "393/393 [==============================] - 4s 10ms/step - loss: 49.1442\n",
      "Epoch 12/25\n",
      "393/393 [==============================] - 4s 10ms/step - loss: 47.1099\n",
      "Epoch 13/25\n",
      "393/393 [==============================] - 4s 10ms/step - loss: 45.5191\n",
      "Epoch 14/25\n",
      "393/393 [==============================] - 4s 10ms/step - loss: 46.4536\n",
      "Epoch 15/25\n",
      "393/393 [==============================] - 4s 9ms/step - loss: 46.1135\n",
      "Epoch 16/25\n",
      "393/393 [==============================] - 4s 10ms/step - loss: 46.7288\n",
      "Epoch 17/25\n",
      "393/393 [==============================] - 4s 9ms/step - loss: 44.1055\n",
      "Epoch 18/25\n",
      "393/393 [==============================] - 4s 10ms/step - loss: 43.1395\n",
      "Epoch 19/25\n",
      "393/393 [==============================] - 4s 9ms/step - loss: 41.4309\n",
      "Epoch 20/25\n",
      "393/393 [==============================] - 4s 9ms/step - loss: 39.3384\n",
      "Epoch 21/25\n",
      "393/393 [==============================] - 4s 9ms/step - loss: 41.7737\n",
      "Epoch 22/25\n",
      "393/393 [==============================] - 4s 10ms/step - loss: 38.6248\n",
      "Epoch 23/25\n",
      "393/393 [==============================] - 4s 9ms/step - loss: 36.0389\n",
      "Epoch 24/25\n",
      "393/393 [==============================] - 4s 10ms/step - loss: 35.0152\n",
      "Epoch 25/25\n",
      "393/393 [==============================] - 4s 9ms/step - loss: 32.7541\n"
     ]
    },
    {
     "data": {
      "text/plain": [
       "<keras.callbacks.History at 0x7f94a60f9128>"
      ]
     },
     "execution_count": 176,
     "metadata": {
      "tags": []
     },
     "output_type": "execute_result"
    }
   ],
   "source": [
    "model_iq.fit(iq_train_x, iq_train_y, epochs=25, batch_size=1, verbose=1)"
   ]
  },
  {
   "cell_type": "code",
   "execution_count": 0,
   "metadata": {
    "colab": {},
    "colab_type": "code",
    "id": "LyWLg8m8cYkl"
   },
   "outputs": [],
   "source": [
    "iq_test_dates = X_test_iq.index\n",
    "X_test_iq = X_test_iq.values\n",
    "y_test_iq = y_test_iq.values"
   ]
  },
  {
   "cell_type": "code",
   "execution_count": 0,
   "metadata": {
    "colab": {},
    "colab_type": "code",
    "id": "8KhL1TG9cYbT"
   },
   "outputs": [],
   "source": [
    "iq_test_x, iq_test_y = [], []\n",
    "for i in range(7,len(X_test_iq)):\n",
    "    iq_test_x.append(X_test_iq[i-7:i])\n",
    "    iq_test_y.append(y_test_iq[i])\n",
    "iq_test_x, iq_test_y = np.array(iq_test_x), np.array(iq_test_y)"
   ]
  },
  {
   "cell_type": "code",
   "execution_count": 0,
   "metadata": {
    "colab": {
     "base_uri": "https://localhost:8080/",
     "height": 35
    },
    "colab_type": "code",
    "executionInfo": {
     "elapsed": 539,
     "status": "ok",
     "timestamp": 1574901755408,
     "user": {
      "displayName": "Smit Kiri",
      "photoUrl": "https://lh3.googleusercontent.com/-oC3sDatMc6I/AAAAAAAAAAI/AAAAAAAAFIY/4-X3wk9oODk/s64/photo.jpg",
      "userId": "13362116092602570316"
     },
     "user_tz": 300
    },
    "id": "1O6gQf2wcYTO",
    "outputId": "3cabbb78-4136-4996-80ce-ba53e0a8b699"
   },
   "outputs": [
    {
     "data": {
      "text/plain": [
       "(120, 7, 12)"
      ]
     },
     "execution_count": 92,
     "metadata": {
      "tags": []
     },
     "output_type": "execute_result"
    }
   ],
   "source": [
    "iq_test_x.shape"
   ]
  },
  {
   "cell_type": "code",
   "execution_count": 0,
   "metadata": {
    "colab": {},
    "colab_type": "code",
    "id": "hpmzxd_BcYLS"
   },
   "outputs": [],
   "source": [
    "y_pred_iq = model_iq.predict(iq_test_x)\n",
    "y_pred_iq = [int(round(y,0)) for y in y_pred_iq[:,0]]"
   ]
  },
  {
   "cell_type": "code",
   "execution_count": 0,
   "metadata": {
    "colab": {},
    "colab_type": "code",
    "id": "Gl-M2__2c9Uh"
   },
   "outputs": [],
   "source": [
    "y_train_pred_iq = model_iq.predict(iq_train_x)\n",
    "y_train_pred_iq = [int(round(y,0)) for y in y_train_pred_iq[:,0]]"
   ]
  },
  {
   "cell_type": "code",
   "execution_count": 0,
   "metadata": {
    "colab": {
     "base_uri": "https://localhost:8080/",
     "height": 446
    },
    "colab_type": "code",
    "executionInfo": {
     "elapsed": 667,
     "status": "ok",
     "timestamp": 1574905249277,
     "user": {
      "displayName": "Smit Kiri",
      "photoUrl": "https://lh3.googleusercontent.com/-oC3sDatMc6I/AAAAAAAAAAI/AAAAAAAAFIY/4-X3wk9oODk/s64/photo.jpg",
      "userId": "13362116092602570316"
     },
     "user_tz": 300
    },
    "id": "dYYnIEbGc9DB",
    "outputId": "3a43d0c2-096e-40ea-8a15-adbb28f5b1bd"
   },
   "outputs": [
    {
     "data": {
      "text/plain": [
       "<matplotlib.legend.Legend at 0x7f94a5afab00>"
      ]
     },
     "execution_count": 179,
     "metadata": {
      "tags": []
     },
     "output_type": "execute_result"
    },
    {
     "data": {
      "image/png": "[encoded data removed]",
      "text/plain": [
       "<Figure size 1152x504 with 1 Axes>"
      ]
     },
     "metadata": {
      "tags": []
     },
     "output_type": "display_data"
    }
   ],
   "source": [
    "fig = plt.figure(figsize=(16,7))\n",
    "plt.plot(iq_train_dates, y_train_iq, label = \"Actual train\")\n",
    "plt.plot(iq_train_dates[7:], y_train_pred_iq, label = \"Predicted train\")\n",
    "plt.plot(iq_test_dates[7:], y_test_iq[7:], label = \"Actucal test\")\n",
    "plt.plot(iq_test_dates[7:], y_pred_iq, label = \"Predicted test\")\n",
    "plt.legend()"
   ]
  },
  {
   "cell_type": "code",
   "execution_count": 0,
   "metadata": {
    "colab": {},
    "colab_type": "code",
    "id": "vHErhHhtfvgf"
   },
   "outputs": [],
   "source": []
  }
 ],
 "metadata": {
  "colab": {
   "collapsed_sections": [],
   "name": "DenguePredictionUsingLSTM.ipynb",
   "provenance": []
  },
  "kernelspec": {
   "display_name": "Python 3",
   "language": "python",
   "name": "python3"
  },
  "language_info": {
   "codemirror_mode": {
    "name": "ipython",
    "version": 3
   },
   "file_extension": ".py",
   "mimetype": "text/x-python",
   "name": "python",
   "nbconvert_exporter": "python",
   "pygments_lexer": "ipython3",
   "version": "3.11.9"
  }
 },
 "nbformat": 4,
 "nbformat_minor": 1
}
