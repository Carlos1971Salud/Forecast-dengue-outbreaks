{
 "cells": [
  {
   "cell_type": "code",
   "execution_count": 0,
   "metadata": {
    "colab": {},
    "colab_type": "code",
    "id": "yBsIRxsJOJyV"
   },
   "outputs": [],
   "source": [
    "import pandas as pd\n",
    "import matplotlib.pyplot as plt\n",
    "%matplotlib inline\n",
    "import seaborn as sns\n",
    "from sklearn import preprocessing\n",
    "from datetime import datetime\n",
    "import numpy as np"
   ]
  },
  {
   "cell_type": "code",
   "execution_count": 0,
   "metadata": {
    "colab": {},
    "colab_type": "code",
    "id": "CigB6o-IOZUY"
   },
   "outputs": [],
   "source": [
    "df = pd.read_csv(\"dengue_features_train.csv\")\n",
    "lables = pd.read_csv(\"dengue_labels_train.csv\")"
   ]
  },
  {
   "cell_type": "code",
   "execution_count": 0,
   "metadata": {
    "colab": {},
    "colab_type": "code",
    "id": "JFVM3bK7Oa-P"
   },
   "outputs": [],
   "source": [
    "data = pd.merge(df, lables, on = ['city', 'year', 'weekofyear'])"
   ]
  },
  {
   "cell_type": "code",
   "execution_count": 22,
   "metadata": {
    "colab": {
     "base_uri": "https://localhost:8080/",
     "height": 226
    },
    "colab_type": "code",
    "executionInfo": {
     "elapsed": 517,
     "status": "ok",
     "timestamp": 1575149025450,
     "user": {
      "displayName": "Smit Anish Kiri",
      "photoUrl": "",
      "userId": "00496750762007332808"
     },
     "user_tz": 300
    },
    "id": "TTxaiVm0Oc8F",
    "outputId": "8fec4597-0556-4945-db56-ad31f0150eee"
   },
   "outputs": [
    {
     "data": {
      "text/html": [
       "<div>\n",
       "<style scoped>\n",
       "    .dataframe tbody tr th:only-of-type {\n",
       "        vertical-align: middle;\n",
       "    }\n",
       "\n",
       "    .dataframe tbody tr th {\n",
       "        vertical-align: top;\n",
       "    }\n",
       "\n",
       "    .dataframe thead th {\n",
       "        text-align: right;\n",
       "    }\n",
       "</style>\n",
       "<table border=\"1\" class=\"dataframe\">\n",
       "  <thead>\n",
       "    <tr style=\"text-align: right;\">\n",
       "      <th></th>\n",
       "      <th>city</th>\n",
       "      <th>year</th>\n",
       "      <th>weekofyear</th>\n",
       "      <th>week_start_date</th>\n",
       "      <th>ndvi_ne</th>\n",
       "      <th>ndvi_nw</th>\n",
       "      <th>ndvi_se</th>\n",
       "      <th>ndvi_sw</th>\n",
       "      <th>precipitation_amt_mm</th>\n",
       "      <th>reanalysis_air_temp_k</th>\n",
       "      <th>reanalysis_avg_temp_k</th>\n",
       "      <th>reanalysis_dew_point_temp_k</th>\n",
       "      <th>reanalysis_max_air_temp_k</th>\n",
       "      <th>reanalysis_min_air_temp_k</th>\n",
       "      <th>reanalysis_precip_amt_kg_per_m2</th>\n",
       "      <th>reanalysis_relative_humidity_percent</th>\n",
       "      <th>reanalysis_sat_precip_amt_mm</th>\n",
       "      <th>reanalysis_specific_humidity_g_per_kg</th>\n",
       "      <th>reanalysis_tdtr_k</th>\n",
       "      <th>station_avg_temp_c</th>\n",
       "      <th>station_diur_temp_rng_c</th>\n",
       "      <th>station_max_temp_c</th>\n",
       "      <th>station_min_temp_c</th>\n",
       "      <th>station_precip_mm</th>\n",
       "      <th>total_cases</th>\n",
       "    </tr>\n",
       "  </thead>\n",
       "  <tbody>\n",
       "    <tr>\n",
       "      <th>0</th>\n",
       "      <td>sj</td>\n",
       "      <td>1990</td>\n",
       "      <td>18</td>\n",
       "      <td>1990-04-30</td>\n",
       "      <td>0.122600</td>\n",
       "      <td>0.103725</td>\n",
       "      <td>0.198483</td>\n",
       "      <td>0.177617</td>\n",
       "      <td>12.42</td>\n",
       "      <td>297.572857</td>\n",
       "      <td>297.742857</td>\n",
       "      <td>292.414286</td>\n",
       "      <td>299.8</td>\n",
       "      <td>295.9</td>\n",
       "      <td>32.00</td>\n",
       "      <td>73.365714</td>\n",
       "      <td>12.42</td>\n",
       "      <td>14.012857</td>\n",
       "      <td>2.628571</td>\n",
       "      <td>25.442857</td>\n",
       "      <td>6.900000</td>\n",
       "      <td>29.4</td>\n",
       "      <td>20.0</td>\n",
       "      <td>16.0</td>\n",
       "      <td>4</td>\n",
       "    </tr>\n",
       "    <tr>\n",
       "      <th>1</th>\n",
       "      <td>sj</td>\n",
       "      <td>1990</td>\n",
       "      <td>19</td>\n",
       "      <td>1990-05-07</td>\n",
       "      <td>0.169900</td>\n",
       "      <td>0.142175</td>\n",
       "      <td>0.162357</td>\n",
       "      <td>0.155486</td>\n",
       "      <td>22.82</td>\n",
       "      <td>298.211429</td>\n",
       "      <td>298.442857</td>\n",
       "      <td>293.951429</td>\n",
       "      <td>300.9</td>\n",
       "      <td>296.4</td>\n",
       "      <td>17.94</td>\n",
       "      <td>77.368571</td>\n",
       "      <td>22.82</td>\n",
       "      <td>15.372857</td>\n",
       "      <td>2.371429</td>\n",
       "      <td>26.714286</td>\n",
       "      <td>6.371429</td>\n",
       "      <td>31.7</td>\n",
       "      <td>22.2</td>\n",
       "      <td>8.6</td>\n",
       "      <td>5</td>\n",
       "    </tr>\n",
       "    <tr>\n",
       "      <th>2</th>\n",
       "      <td>sj</td>\n",
       "      <td>1990</td>\n",
       "      <td>20</td>\n",
       "      <td>1990-05-14</td>\n",
       "      <td>0.032250</td>\n",
       "      <td>0.172967</td>\n",
       "      <td>0.157200</td>\n",
       "      <td>0.170843</td>\n",
       "      <td>34.54</td>\n",
       "      <td>298.781429</td>\n",
       "      <td>298.878571</td>\n",
       "      <td>295.434286</td>\n",
       "      <td>300.5</td>\n",
       "      <td>297.3</td>\n",
       "      <td>26.10</td>\n",
       "      <td>82.052857</td>\n",
       "      <td>34.54</td>\n",
       "      <td>16.848571</td>\n",
       "      <td>2.300000</td>\n",
       "      <td>26.714286</td>\n",
       "      <td>6.485714</td>\n",
       "      <td>32.2</td>\n",
       "      <td>22.8</td>\n",
       "      <td>41.4</td>\n",
       "      <td>4</td>\n",
       "    </tr>\n",
       "    <tr>\n",
       "      <th>3</th>\n",
       "      <td>sj</td>\n",
       "      <td>1990</td>\n",
       "      <td>21</td>\n",
       "      <td>1990-05-21</td>\n",
       "      <td>0.128633</td>\n",
       "      <td>0.245067</td>\n",
       "      <td>0.227557</td>\n",
       "      <td>0.235886</td>\n",
       "      <td>15.36</td>\n",
       "      <td>298.987143</td>\n",
       "      <td>299.228571</td>\n",
       "      <td>295.310000</td>\n",
       "      <td>301.4</td>\n",
       "      <td>297.0</td>\n",
       "      <td>13.90</td>\n",
       "      <td>80.337143</td>\n",
       "      <td>15.36</td>\n",
       "      <td>16.672857</td>\n",
       "      <td>2.428571</td>\n",
       "      <td>27.471429</td>\n",
       "      <td>6.771429</td>\n",
       "      <td>33.3</td>\n",
       "      <td>23.3</td>\n",
       "      <td>4.0</td>\n",
       "      <td>3</td>\n",
       "    </tr>\n",
       "    <tr>\n",
       "      <th>4</th>\n",
       "      <td>sj</td>\n",
       "      <td>1990</td>\n",
       "      <td>22</td>\n",
       "      <td>1990-05-28</td>\n",
       "      <td>0.196200</td>\n",
       "      <td>0.262200</td>\n",
       "      <td>0.251200</td>\n",
       "      <td>0.247340</td>\n",
       "      <td>7.52</td>\n",
       "      <td>299.518571</td>\n",
       "      <td>299.664286</td>\n",
       "      <td>295.821429</td>\n",
       "      <td>301.9</td>\n",
       "      <td>297.5</td>\n",
       "      <td>12.20</td>\n",
       "      <td>80.460000</td>\n",
       "      <td>7.52</td>\n",
       "      <td>17.210000</td>\n",
       "      <td>3.014286</td>\n",
       "      <td>28.942857</td>\n",
       "      <td>9.371429</td>\n",
       "      <td>35.0</td>\n",
       "      <td>23.9</td>\n",
       "      <td>5.8</td>\n",
       "      <td>6</td>\n",
       "    </tr>\n",
       "  </tbody>\n",
       "</table>\n",
       "</div>"
      ],
      "text/plain": [
       "  city  year  weekofyear  ... station_min_temp_c  station_precip_mm  total_cases\n",
       "0   sj  1990          18  ...               20.0               16.0            4\n",
       "1   sj  1990          19  ...               22.2                8.6            5\n",
       "2   sj  1990          20  ...               22.8               41.4            4\n",
       "3   sj  1990          21  ...               23.3                4.0            3\n",
       "4   sj  1990          22  ...               23.9                5.8            6\n",
       "\n",
       "[5 rows x 25 columns]"
      ]
     },
     "execution_count": 22,
     "metadata": {
      "tags": []
     },
     "output_type": "execute_result"
    }
   ],
   "source": [
    "data.head()"
   ]
  },
  {
   "cell_type": "code",
   "execution_count": 0,
   "metadata": {
    "colab": {},
    "colab_type": "code",
    "id": "XMbInQz4OfkG"
   },
   "outputs": [],
   "source": [
    "sj = data[data['city'] == 'sj']\n",
    "sj = sj.drop('city', axis=1)\n",
    "\n",
    "iq = data[data['city'] == 'iq']\n",
    "iq = iq.drop('city', axis=1)"
   ]
  },
  {
   "cell_type": "code",
   "execution_count": 0,
   "metadata": {
    "colab": {},
    "colab_type": "code",
    "id": "iGUdP9gBOmGt"
   },
   "outputs": [],
   "source": [
    "sj['week_start_date'] = pd.to_datetime(sj['week_start_date'])\n",
    "\n",
    "iq['week_start_date'] = pd.to_datetime(iq['week_start_date'])"
   ]
  },
  {
   "cell_type": "code",
   "execution_count": 87,
   "metadata": {
    "colab": {
     "base_uri": "https://localhost:8080/",
     "height": 88
    },
    "colab_type": "code",
    "executionInfo": {
     "elapsed": 525,
     "status": "ok",
     "timestamp": 1575150700724,
     "user": {
      "displayName": "Smit Anish Kiri",
      "photoUrl": "",
      "userId": "00496750762007332808"
     },
     "user_tz": 300
    },
    "id": "MYDz_6HKPCBB",
    "outputId": "a21beb95-3374-458f-8372-443e0c721564"
   },
   "outputs": [
    {
     "data": {
      "text/plain": [
       "(Timestamp('2008-04-22 00:00:00'),\n",
       " Timestamp('1990-04-30 00:00:00'),\n",
       " Timestamp('2010-06-25 00:00:00'),\n",
       " Timestamp('2000-07-01 00:00:00'))"
      ]
     },
     "execution_count": 87,
     "metadata": {
      "tags": []
     },
     "output_type": "execute_result"
    }
   ],
   "source": [
    "max(sj['week_start_date']), min(sj['week_start_date']), max(iq['week_start_date']), min(iq['week_start_date'])"
   ]
  },
  {
   "cell_type": "code",
   "execution_count": 0,
   "metadata": {
    "colab": {},
    "colab_type": "code",
    "id": "LKk9OaeNN_2V"
   },
   "outputs": [],
   "source": [
    "sj.index = sj['week_start_date']\n",
    "\n",
    "iq.index = iq['week_start_date']"
   ]
  },
  {
   "cell_type": "code",
   "execution_count": 0,
   "metadata": {
    "colab": {},
    "colab_type": "code",
    "id": "N6cIHBzfBHij"
   },
   "outputs": [],
   "source": [
    "sj.drop('week_start_date', axis=1, inplace=True)"
   ]
  },
  {
   "cell_type": "code",
   "execution_count": 90,
   "metadata": {
    "colab": {
     "base_uri": "https://localhost:8080/",
     "height": 258
    },
    "colab_type": "code",
    "executionInfo": {
     "elapsed": 738,
     "status": "ok",
     "timestamp": 1575150704487,
     "user": {
      "displayName": "Smit Anish Kiri",
      "photoUrl": "",
      "userId": "00496750762007332808"
     },
     "user_tz": 300
    },
    "id": "pcldfjQGKK1M",
    "outputId": "6d4f3586-1a1d-4e9e-9d3b-8710046aa0f4"
   },
   "outputs": [
    {
     "data": {
      "text/html": [
       "<div>\n",
       "<style scoped>\n",
       "    .dataframe tbody tr th:only-of-type {\n",
       "        vertical-align: middle;\n",
       "    }\n",
       "\n",
       "    .dataframe tbody tr th {\n",
       "        vertical-align: top;\n",
       "    }\n",
       "\n",
       "    .dataframe thead th {\n",
       "        text-align: right;\n",
       "    }\n",
       "</style>\n",
       "<table border=\"1\" class=\"dataframe\">\n",
       "  <thead>\n",
       "    <tr style=\"text-align: right;\">\n",
       "      <th></th>\n",
       "      <th>year</th>\n",
       "      <th>weekofyear</th>\n",
       "      <th>ndvi_ne</th>\n",
       "      <th>ndvi_nw</th>\n",
       "      <th>ndvi_se</th>\n",
       "      <th>ndvi_sw</th>\n",
       "      <th>precipitation_amt_mm</th>\n",
       "      <th>reanalysis_air_temp_k</th>\n",
       "      <th>reanalysis_avg_temp_k</th>\n",
       "      <th>reanalysis_dew_point_temp_k</th>\n",
       "      <th>reanalysis_max_air_temp_k</th>\n",
       "      <th>reanalysis_min_air_temp_k</th>\n",
       "      <th>reanalysis_precip_amt_kg_per_m2</th>\n",
       "      <th>reanalysis_relative_humidity_percent</th>\n",
       "      <th>reanalysis_sat_precip_amt_mm</th>\n",
       "      <th>reanalysis_specific_humidity_g_per_kg</th>\n",
       "      <th>reanalysis_tdtr_k</th>\n",
       "      <th>station_avg_temp_c</th>\n",
       "      <th>station_diur_temp_rng_c</th>\n",
       "      <th>station_max_temp_c</th>\n",
       "      <th>station_min_temp_c</th>\n",
       "      <th>station_precip_mm</th>\n",
       "      <th>total_cases</th>\n",
       "    </tr>\n",
       "    <tr>\n",
       "      <th>week_start_date</th>\n",
       "      <th></th>\n",
       "      <th></th>\n",
       "      <th></th>\n",
       "      <th></th>\n",
       "      <th></th>\n",
       "      <th></th>\n",
       "      <th></th>\n",
       "      <th></th>\n",
       "      <th></th>\n",
       "      <th></th>\n",
       "      <th></th>\n",
       "      <th></th>\n",
       "      <th></th>\n",
       "      <th></th>\n",
       "      <th></th>\n",
       "      <th></th>\n",
       "      <th></th>\n",
       "      <th></th>\n",
       "      <th></th>\n",
       "      <th></th>\n",
       "      <th></th>\n",
       "      <th></th>\n",
       "      <th></th>\n",
       "    </tr>\n",
       "  </thead>\n",
       "  <tbody>\n",
       "    <tr>\n",
       "      <th>1990-04-30</th>\n",
       "      <td>1990</td>\n",
       "      <td>18</td>\n",
       "      <td>0.122600</td>\n",
       "      <td>0.103725</td>\n",
       "      <td>0.198483</td>\n",
       "      <td>0.177617</td>\n",
       "      <td>12.42</td>\n",
       "      <td>297.572857</td>\n",
       "      <td>297.742857</td>\n",
       "      <td>292.414286</td>\n",
       "      <td>299.8</td>\n",
       "      <td>295.9</td>\n",
       "      <td>32.00</td>\n",
       "      <td>73.365714</td>\n",
       "      <td>12.42</td>\n",
       "      <td>14.012857</td>\n",
       "      <td>2.628571</td>\n",
       "      <td>25.442857</td>\n",
       "      <td>6.900000</td>\n",
       "      <td>29.4</td>\n",
       "      <td>20.0</td>\n",
       "      <td>16.0</td>\n",
       "      <td>4</td>\n",
       "    </tr>\n",
       "    <tr>\n",
       "      <th>1990-05-07</th>\n",
       "      <td>1990</td>\n",
       "      <td>19</td>\n",
       "      <td>0.169900</td>\n",
       "      <td>0.142175</td>\n",
       "      <td>0.162357</td>\n",
       "      <td>0.155486</td>\n",
       "      <td>22.82</td>\n",
       "      <td>298.211429</td>\n",
       "      <td>298.442857</td>\n",
       "      <td>293.951429</td>\n",
       "      <td>300.9</td>\n",
       "      <td>296.4</td>\n",
       "      <td>17.94</td>\n",
       "      <td>77.368571</td>\n",
       "      <td>22.82</td>\n",
       "      <td>15.372857</td>\n",
       "      <td>2.371429</td>\n",
       "      <td>26.714286</td>\n",
       "      <td>6.371429</td>\n",
       "      <td>31.7</td>\n",
       "      <td>22.2</td>\n",
       "      <td>8.6</td>\n",
       "      <td>5</td>\n",
       "    </tr>\n",
       "    <tr>\n",
       "      <th>1990-05-14</th>\n",
       "      <td>1990</td>\n",
       "      <td>20</td>\n",
       "      <td>0.032250</td>\n",
       "      <td>0.172967</td>\n",
       "      <td>0.157200</td>\n",
       "      <td>0.170843</td>\n",
       "      <td>34.54</td>\n",
       "      <td>298.781429</td>\n",
       "      <td>298.878571</td>\n",
       "      <td>295.434286</td>\n",
       "      <td>300.5</td>\n",
       "      <td>297.3</td>\n",
       "      <td>26.10</td>\n",
       "      <td>82.052857</td>\n",
       "      <td>34.54</td>\n",
       "      <td>16.848571</td>\n",
       "      <td>2.300000</td>\n",
       "      <td>26.714286</td>\n",
       "      <td>6.485714</td>\n",
       "      <td>32.2</td>\n",
       "      <td>22.8</td>\n",
       "      <td>41.4</td>\n",
       "      <td>4</td>\n",
       "    </tr>\n",
       "    <tr>\n",
       "      <th>1990-05-21</th>\n",
       "      <td>1990</td>\n",
       "      <td>21</td>\n",
       "      <td>0.128633</td>\n",
       "      <td>0.245067</td>\n",
       "      <td>0.227557</td>\n",
       "      <td>0.235886</td>\n",
       "      <td>15.36</td>\n",
       "      <td>298.987143</td>\n",
       "      <td>299.228571</td>\n",
       "      <td>295.310000</td>\n",
       "      <td>301.4</td>\n",
       "      <td>297.0</td>\n",
       "      <td>13.90</td>\n",
       "      <td>80.337143</td>\n",
       "      <td>15.36</td>\n",
       "      <td>16.672857</td>\n",
       "      <td>2.428571</td>\n",
       "      <td>27.471429</td>\n",
       "      <td>6.771429</td>\n",
       "      <td>33.3</td>\n",
       "      <td>23.3</td>\n",
       "      <td>4.0</td>\n",
       "      <td>3</td>\n",
       "    </tr>\n",
       "    <tr>\n",
       "      <th>1990-05-28</th>\n",
       "      <td>1990</td>\n",
       "      <td>22</td>\n",
       "      <td>0.196200</td>\n",
       "      <td>0.262200</td>\n",
       "      <td>0.251200</td>\n",
       "      <td>0.247340</td>\n",
       "      <td>7.52</td>\n",
       "      <td>299.518571</td>\n",
       "      <td>299.664286</td>\n",
       "      <td>295.821429</td>\n",
       "      <td>301.9</td>\n",
       "      <td>297.5</td>\n",
       "      <td>12.20</td>\n",
       "      <td>80.460000</td>\n",
       "      <td>7.52</td>\n",
       "      <td>17.210000</td>\n",
       "      <td>3.014286</td>\n",
       "      <td>28.942857</td>\n",
       "      <td>9.371429</td>\n",
       "      <td>35.0</td>\n",
       "      <td>23.9</td>\n",
       "      <td>5.8</td>\n",
       "      <td>6</td>\n",
       "    </tr>\n",
       "  </tbody>\n",
       "</table>\n",
       "</div>"
      ],
      "text/plain": [
       "                 year  weekofyear  ...  station_precip_mm  total_cases\n",
       "week_start_date                    ...                                \n",
       "1990-04-30       1990          18  ...               16.0            4\n",
       "1990-05-07       1990          19  ...                8.6            5\n",
       "1990-05-14       1990          20  ...               41.4            4\n",
       "1990-05-21       1990          21  ...                4.0            3\n",
       "1990-05-28       1990          22  ...                5.8            6\n",
       "\n",
       "[5 rows x 23 columns]"
      ]
     },
     "execution_count": 90,
     "metadata": {
      "tags": []
     },
     "output_type": "execute_result"
    }
   ],
   "source": [
    "sj.head()"
   ]
  },
  {
   "cell_type": "code",
   "execution_count": 0,
   "metadata": {
    "colab": {},
    "colab_type": "code",
    "id": "EFLSippKKbVg"
   },
   "outputs": [],
   "source": [
    "sj_cleaned = sj.drop(['precipitation_amt_mm', 'reanalysis_air_temp_k', 'reanalysis_avg_temp_k', 'reanalysis_max_air_temp_k', 'reanalysis_min_air_temp_k',\n",
    "                    'reanalysis_precip_amt_kg_per_m2', 'reanalysis_sat_precip_amt_mm', 'ndvi_ne', 'ndvi_nw', 'ndvi_se', 'ndvi_sw'], axis=1)"
   ]
  },
  {
   "cell_type": "code",
   "execution_count": 92,
   "metadata": {
    "colab": {
     "base_uri": "https://localhost:8080/",
     "height": 73
    },
    "colab_type": "code",
    "executionInfo": {
     "elapsed": 706,
     "status": "ok",
     "timestamp": 1575150711363,
     "user": {
      "displayName": "Smit Anish Kiri",
      "photoUrl": "",
      "userId": "00496750762007332808"
     },
     "user_tz": 300
    },
    "id": "xw0HxhfYABX6",
    "outputId": "3b04a724-bd1f-4216-a61d-68779c6f1def"
   },
   "outputs": [
    {
     "name": "stderr",
     "output_type": "stream",
     "text": [
      "/usr/local/lib/python3.6/dist-packages/sklearn/utils/deprecation.py:66: DeprecationWarning: Class Imputer is deprecated; Imputer was deprecated in version 0.20 and will be removed in 0.22. Import impute.SimpleImputer from sklearn instead.\n",
      "  warnings.warn(msg, category=DeprecationWarning)\n"
     ]
    }
   ],
   "source": [
    "X_sj = sj.values\n",
    "y_sj = sj['total_cases'].values\n",
    "\n",
    "# Taking care of missing data\n",
    "from sklearn.preprocessing import Imputer\n",
    "imputer = Imputer(missing_values = 'NaN', strategy = 'mean', axis = 0)\n",
    "imputer = imputer.fit(X_sj[:, 2:])\n",
    "X_sj[:, 2:] = imputer.transform(X_sj[:, 2:])\n",
    "\n",
    "# Feature Scaling\n",
    "from sklearn.preprocessing import StandardScaler\n",
    "sc = StandardScaler()\n",
    "X_sj = sc.fit_transform(X_sj)\n",
    "X_sj = sc.transform(X_sj)\n",
    "\n",
    "# Applying PCA\n",
    "from sklearn.decomposition import PCA\n",
    "pca = PCA(n_components = 12)\n",
    "X_sj = pca.fit_transform(X_sj)"
   ]
  },
  {
   "cell_type": "code",
   "execution_count": 0,
   "metadata": {
    "colab": {},
    "colab_type": "code",
    "id": "dL024LoVMFvG"
   },
   "outputs": [],
   "source": [
    "X_train_sj = X_sj[:800]\n",
    "y_train_sj = y_sj[:800]\n",
    "\n",
    "X_test_sj = X_sj[800:]\n",
    "y_test_sj = y_sj[800:]"
   ]
  },
  {
   "cell_type": "code",
   "execution_count": 94,
   "metadata": {
    "colab": {
     "base_uri": "https://localhost:8080/",
     "height": 35
    },
    "colab_type": "code",
    "executionInfo": {
     "elapsed": 1162,
     "status": "ok",
     "timestamp": 1575150721648,
     "user": {
      "displayName": "Smit Anish Kiri",
      "photoUrl": "",
      "userId": "00496750762007332808"
     },
     "user_tz": 300
    },
    "id": "zXvjDkeWL6Sv",
    "outputId": "4c9df1de-a14f-4ea2-c3aa-1de4a6f202e4"
   },
   "outputs": [
    {
     "data": {
      "text/plain": [
       "(800, 12)"
      ]
     },
     "execution_count": 94,
     "metadata": {
      "tags": []
     },
     "output_type": "execute_result"
    }
   ],
   "source": [
    "X_train_sj.shape"
   ]
  },
  {
   "cell_type": "code",
   "execution_count": 95,
   "metadata": {
    "colab": {
     "base_uri": "https://localhost:8080/",
     "height": 55
    },
    "colab_type": "code",
    "executionInfo": {
     "elapsed": 711,
     "status": "ok",
     "timestamp": 1575150725578,
     "user": {
      "displayName": "Smit Anish Kiri",
      "photoUrl": "",
      "userId": "00496750762007332808"
     },
     "user_tz": 300
    },
    "id": "DaJguH0tSO2R",
    "outputId": "c9dc557e-1b38-4a06-f7a6-baedf04decf1"
   },
   "outputs": [
    {
     "data": {
      "text/plain": [
       "'\\niq_train_dates = X_train_iq.index\\nX_train_iq = X_train_iq.values\\niq_train_x, iq_train_y = [], []\\nfor i in range(7,len(X_train_iq)):\\n    iq_train_x.append(X_train_iq[i-7:i])\\n    iq_train_y.append(y_train_iq[i])\\niq_train_x, iq_train_y = np.array(iq_train_x), np.array(iq_train_y)\\n\\n'"
      ]
     },
     "execution_count": 95,
     "metadata": {
      "tags": []
     },
     "output_type": "execute_result"
    }
   ],
   "source": [
    "sj_train_dates = sj.index[:800]\n",
    "sj_train_x, sj_train_y = [], []\n",
    "for i in range(7,len(X_train_sj)):\n",
    "    sj_train_x.append(X_train_sj[i-7:i])\n",
    "    sj_train_y.append(y_train_sj[i])\n",
    "sj_train_x, sj_train_y = np.array(sj_train_x), np.array(sj_train_y)\n",
    "\n",
    "'''\n",
    "iq_train_dates = X_train_iq.index\n",
    "X_train_iq = X_train_iq.values\n",
    "iq_train_x, iq_train_y = [], []\n",
    "for i in range(7,len(X_train_iq)):\n",
    "    iq_train_x.append(X_train_iq[i-7:i])\n",
    "    iq_train_y.append(y_train_iq[i])\n",
    "iq_train_x, iq_train_y = np.array(iq_train_x), np.array(iq_train_y)\n",
    "\n",
    "'''"
   ]
  },
  {
   "cell_type": "code",
   "execution_count": 96,
   "metadata": {
    "colab": {
     "base_uri": "https://localhost:8080/",
     "height": 35
    },
    "colab_type": "code",
    "executionInfo": {
     "elapsed": 887,
     "status": "ok",
     "timestamp": 1575150726953,
     "user": {
      "displayName": "Smit Anish Kiri",
      "photoUrl": "",
      "userId": "00496750762007332808"
     },
     "user_tz": 300
    },
    "id": "XLKgsnIfeY_7",
    "outputId": "f4a67033-c6f5-4587-8901-19780ef2ca0d"
   },
   "outputs": [
    {
     "data": {
      "text/plain": [
       "(793, 7, 12)"
      ]
     },
     "execution_count": 96,
     "metadata": {
      "tags": []
     },
     "output_type": "execute_result"
    }
   ],
   "source": [
    "sj_train_x.shape"
   ]
  },
  {
   "cell_type": "code",
   "execution_count": 97,
   "metadata": {
    "colab": {
     "base_uri": "https://localhost:8080/",
     "height": 35
    },
    "colab_type": "code",
    "executionInfo": {
     "elapsed": 786,
     "status": "ok",
     "timestamp": 1575150727264,
     "user": {
      "displayName": "Smit Anish Kiri",
      "photoUrl": "",
      "userId": "00496750762007332808"
     },
     "user_tz": 300
    },
    "id": "aNAG4lPSTFH5",
    "outputId": "0cae3320-7b45-4347-d11f-2f80f3e98ec3"
   },
   "outputs": [
    {
     "data": {
      "text/plain": [
       "((793, 7, 12), (793,))"
      ]
     },
     "execution_count": 97,
     "metadata": {
      "tags": []
     },
     "output_type": "execute_result"
    }
   ],
   "source": [
    "sj_train_x.shape, sj_train_y.shape"
   ]
  },
  {
   "cell_type": "code",
   "execution_count": 0,
   "metadata": {
    "colab": {},
    "colab_type": "code",
    "id": "bYU4nbpSTZRZ"
   },
   "outputs": [],
   "source": [
    "from keras.models import Sequential\n",
    "from keras.layers import Dense, LSTM, Dropout"
   ]
  },
  {
   "cell_type": "code",
   "execution_count": 0,
   "metadata": {
    "colab": {},
    "colab_type": "code",
    "id": "lu02kGSoTSMl"
   },
   "outputs": [],
   "source": [
    "model_sj = Sequential()\n",
    "model_sj.add(LSTM(units=50, return_sequences=True, input_shape=(sj_train_x.shape[1], sj_train_x.shape[2])))\n",
    "model_sj.add(LSTM(units=50))\n",
    "model_sj.add(Dense(1))"
   ]
  },
  {
   "cell_type": "code",
   "execution_count": 0,
   "metadata": {
    "colab": {},
    "colab_type": "code",
    "id": "j12ZJ5VuTYT8"
   },
   "outputs": [],
   "source": [
    "model_sj.compile(loss='mean_squared_error', optimizer='adam')"
   ]
  },
  {
   "cell_type": "code",
   "execution_count": 101,
   "metadata": {
    "colab": {
     "base_uri": "https://localhost:8080/",
     "height": 1000
    },
    "colab_type": "code",
    "executionInfo": {
     "elapsed": 263540,
     "status": "ok",
     "timestamp": 1575150993600,
     "user": {
      "displayName": "Smit Anish Kiri",
      "photoUrl": "",
      "userId": "00496750762007332808"
     },
     "user_tz": 300
    },
    "id": "vwF8TgEoTkGB",
    "outputId": "d5a45b0f-3d2d-4f2f-e31d-98043f546b2b"
   },
   "outputs": [
    {
     "name": "stdout",
     "output_type": "stream",
     "text": [
      "Epoch 1/30\n",
      "793/793 [==============================] - 11s 14ms/step - loss: 3340.2505\n",
      "Epoch 2/30\n",
      "793/793 [==============================] - 8s 11ms/step - loss: 3030.5716\n",
      "Epoch 3/30\n",
      "793/793 [==============================] - 8s 11ms/step - loss: 2835.1267\n",
      "Epoch 4/30\n",
      "793/793 [==============================] - 9s 11ms/step - loss: 2574.8561\n",
      "Epoch 5/30\n",
      "793/793 [==============================] - 9s 11ms/step - loss: 2330.2787\n",
      "Epoch 6/30\n",
      "793/793 [==============================] - 9s 11ms/step - loss: 2173.4283\n",
      "Epoch 7/30\n",
      "793/793 [==============================] - 9s 11ms/step - loss: 1975.9264\n",
      "Epoch 8/30\n",
      "793/793 [==============================] - 9s 11ms/step - loss: 1831.0475\n",
      "Epoch 9/30\n",
      "793/793 [==============================] - 9s 11ms/step - loss: 1722.3569\n",
      "Epoch 10/30\n",
      "793/793 [==============================] - 9s 11ms/step - loss: 1616.3797\n",
      "Epoch 11/30\n",
      "793/793 [==============================] - 9s 11ms/step - loss: 1510.5486\n",
      "Epoch 12/30\n",
      "793/793 [==============================] - 9s 11ms/step - loss: 1410.0977\n",
      "Epoch 13/30\n",
      "793/793 [==============================] - 9s 11ms/step - loss: 1330.9500\n",
      "Epoch 14/30\n",
      "793/793 [==============================] - 9s 11ms/step - loss: 1257.8655\n",
      "Epoch 15/30\n",
      "793/793 [==============================] - 9s 11ms/step - loss: 1180.4535\n",
      "Epoch 16/30\n",
      "793/793 [==============================] - 9s 11ms/step - loss: 1110.1350\n",
      "Epoch 17/30\n",
      "793/793 [==============================] - 9s 11ms/step - loss: 1049.5707\n",
      "Epoch 18/30\n",
      "793/793 [==============================] - 9s 11ms/step - loss: 1006.2039\n",
      "Epoch 19/30\n",
      "793/793 [==============================] - 8s 11ms/step - loss: 960.8380\n",
      "Epoch 20/30\n",
      "793/793 [==============================] - 9s 11ms/step - loss: 893.6251\n",
      "Epoch 21/30\n",
      "793/793 [==============================] - 9s 11ms/step - loss: 851.7983\n",
      "Epoch 22/30\n",
      "793/793 [==============================] - 9s 11ms/step - loss: 808.0992\n",
      "Epoch 23/30\n",
      "793/793 [==============================] - 9s 11ms/step - loss: 768.1611\n",
      "Epoch 24/30\n",
      "793/793 [==============================] - 9s 11ms/step - loss: 740.9525\n",
      "Epoch 25/30\n",
      "793/793 [==============================] - 9s 11ms/step - loss: 695.7237\n",
      "Epoch 26/30\n",
      "793/793 [==============================] - 9s 11ms/step - loss: 659.9159\n",
      "Epoch 27/30\n",
      "793/793 [==============================] - 9s 11ms/step - loss: 626.6886\n",
      "Epoch 28/30\n",
      "793/793 [==============================] - 9s 11ms/step - loss: 593.3010\n",
      "Epoch 29/30\n",
      "793/793 [==============================] - 9s 11ms/step - loss: 560.3070\n",
      "Epoch 30/30\n",
      "793/793 [==============================] - 9s 11ms/step - loss: 523.7263\n"
     ]
    },
    {
     "data": {
      "text/plain": [
       "<keras.callbacks.History at 0x7f403de19c50>"
      ]
     },
     "execution_count": 101,
     "metadata": {
      "tags": []
     },
     "output_type": "execute_result"
    }
   ],
   "source": [
    "model_sj.fit(sj_train_x, sj_train_y, epochs=30, batch_size=1, verbose=1)"
   ]
  },
  {
   "cell_type": "code",
   "execution_count": 0,
   "metadata": {
    "colab": {},
    "colab_type": "code",
    "id": "8IDBFac4VQZv"
   },
   "outputs": [],
   "source": [
    "sj_test_dates = sj.index[800:]"
   ]
  },
  {
   "cell_type": "code",
   "execution_count": 0,
   "metadata": {
    "colab": {},
    "colab_type": "code",
    "id": "2UZF9CqUTqi3"
   },
   "outputs": [],
   "source": [
    "sj_test_x, sj_test_y = [], []\n",
    "for i in range(7,len(X_test_sj)):\n",
    "    sj_test_x.append(X_test_sj[i-7:i])\n",
    "    sj_test_y.append(y_test_sj[i])\n",
    "sj_test_x, sj_test_y = np.array(sj_test_x), np.array(sj_test_y)"
   ]
  },
  {
   "cell_type": "code",
   "execution_count": 104,
   "metadata": {
    "colab": {
     "base_uri": "https://localhost:8080/",
     "height": 35
    },
    "colab_type": "code",
    "executionInfo": {
     "elapsed": 537,
     "status": "ok",
     "timestamp": 1575151000461,
     "user": {
      "displayName": "Smit Anish Kiri",
      "photoUrl": "",
      "userId": "00496750762007332808"
     },
     "user_tz": 300
    },
    "id": "1TTBcTzPVak1",
    "outputId": "860f88c7-bf2d-40cb-a122-f2061784b9e2"
   },
   "outputs": [
    {
     "data": {
      "text/plain": [
       "(129, 7, 12)"
      ]
     },
     "execution_count": 104,
     "metadata": {
      "tags": []
     },
     "output_type": "execute_result"
    }
   ],
   "source": [
    "sj_test_x.shape"
   ]
  },
  {
   "cell_type": "code",
   "execution_count": 0,
   "metadata": {
    "colab": {},
    "colab_type": "code",
    "id": "8kX0VvdbctJo"
   },
   "outputs": [],
   "source": [
    "y_pred_sj = model_sj.predict(sj_test_x)"
   ]
  },
  {
   "cell_type": "code",
   "execution_count": 0,
   "metadata": {
    "colab": {},
    "colab_type": "code",
    "id": "FfrhQ4i0QFuY"
   },
   "outputs": [],
   "source": [
    "y_pred_sj = [int(round(y,0)) for y in y_pred_sj[:,0]]"
   ]
  },
  {
   "cell_type": "code",
   "execution_count": 0,
   "metadata": {
    "colab": {},
    "colab_type": "code",
    "id": "s88OXuRm5q8P"
   },
   "outputs": [],
   "source": [
    "y_train_pred_sj = model_sj.predict(sj_train_x)\n",
    "y_train_pred_sj = [int(round(y,0)) for y in y_train_pred_sj[:,0]]"
   ]
  },
  {
   "cell_type": "code",
   "execution_count": 108,
   "metadata": {
    "colab": {
     "base_uri": "https://localhost:8080/",
     "height": 446
    },
    "colab_type": "code",
    "executionInfo": {
     "elapsed": 863,
     "status": "ok",
     "timestamp": 1575151004656,
     "user": {
      "displayName": "Smit Anish Kiri",
      "photoUrl": "",
      "userId": "00496750762007332808"
     },
     "user_tz": 300
    },
    "id": "AKgpTLQTQo0j",
    "outputId": "abc2227c-c1dd-497e-e4cc-6cfc87ab4110"
   },
   "outputs": [
    {
     "data": {
      "text/plain": [
       "<matplotlib.legend.Legend at 0x7f403d756358>"
      ]
     },
     "execution_count": 108,
     "metadata": {
      "tags": []
     },
     "output_type": "execute_result"
    },
    {
     "data": {
      "image/png": "[encoded data removed]",
      "text/plain": [
       "<Figure size 1152x504 with 1 Axes>"
      ]
     },
     "metadata": {
      "tags": []
     },
     "output_type": "display_data"
    }
   ],
   "source": [
    "\n",
    "fig = plt.figure(figsize=(16,7))\n",
    "plt.plot(sj_train_dates, y_train_sj, label = \"Actual train\")\n",
    "plt.plot(sj_train_dates[7:], y_train_pred_sj, label = \"Predicted train\")\n",
    "plt.plot(sj_test_dates[7:], y_test_sj[7:], label = \"Actucal test\")\n",
    "plt.plot(sj_test_dates[7:], y_pred_sj, label = \"Predicted test\")\n",
    "plt.legend()"
   ]
  },
  {
   "cell_type": "code",
   "execution_count": 0,
   "metadata": {
    "colab": {},
    "colab_type": "code",
    "id": "_i0sH7MR4_VV"
   },
   "outputs": [],
   "source": [
    "model_iq = Sequential()\n",
    "model_iq.add(LSTM(units=50, return_sequences=True, input_shape=(iq_train_x.shape[1], iq_train_x.shape[2])))\n",
    "model_iq.add(LSTM(units=50))\n",
    "model_iq.add(Dense(1))"
   ]
  },
  {
   "cell_type": "code",
   "execution_count": 0,
   "metadata": {
    "colab": {},
    "colab_type": "code",
    "id": "lEa1UuJJQuXI"
   },
   "outputs": [],
   "source": [
    "model_iq.compile(loss='mean_squared_error', optimizer='adam')"
   ]
  },
  {
   "cell_type": "code",
   "execution_count": 0,
   "metadata": {
    "colab": {
     "base_uri": "https://localhost:8080/",
     "height": 928
    },
    "colab_type": "code",
    "executionInfo": {
     "elapsed": 98432,
     "status": "ok",
     "timestamp": 1574905240140,
     "user": {
      "displayName": "Smit Kiri",
      "photoUrl": "https://lh3.googleusercontent.com/-oC3sDatMc6I/AAAAAAAAAAI/AAAAAAAAFIY/4-X3wk9oODk/s64/photo.jpg",
      "userId": "13362116092602570316"
     },
     "user_tz": 300
    },
    "id": "cu_THfIucTuV",
    "outputId": "1c48bbc4-c647-4756-cc99-f95b772787f2"
   },
   "outputs": [
    {
     "name": "stdout",
     "output_type": "stream",
     "text": [
      "Epoch 1/25\n",
      "393/393 [==============================] - 6s 16ms/step - loss: 107.1259\n",
      "Epoch 2/25\n",
      "393/393 [==============================] - 4s 10ms/step - loss: 76.2952\n",
      "Epoch 3/25\n",
      "393/393 [==============================] - 4s 10ms/step - loss: 70.5348\n",
      "Epoch 4/25\n",
      "393/393 [==============================] - 4s 10ms/step - loss: 62.8535\n",
      "Epoch 5/25\n",
      "393/393 [==============================] - 4s 10ms/step - loss: 58.8751\n",
      "Epoch 6/25\n",
      "393/393 [==============================] - 4s 9ms/step - loss: 59.3402\n",
      "Epoch 7/25\n",
      "393/393 [==============================] - 4s 9ms/step - loss: 54.7960\n",
      "Epoch 8/25\n",
      "393/393 [==============================] - 4s 10ms/step - loss: 53.3307\n",
      "Epoch 9/25\n",
      "393/393 [==============================] - 4s 9ms/step - loss: 51.1735\n",
      "Epoch 10/25\n",
      "393/393 [==============================] - 4s 9ms/step - loss: 49.4883\n",
      "Epoch 11/25\n",
      "393/393 [==============================] - 4s 10ms/step - loss: 49.1442\n",
      "Epoch 12/25\n",
      "393/393 [==============================] - 4s 10ms/step - loss: 47.1099\n",
      "Epoch 13/25\n",
      "393/393 [==============================] - 4s 10ms/step - loss: 45.5191\n",
      "Epoch 14/25\n",
      "393/393 [==============================] - 4s 10ms/step - loss: 46.4536\n",
      "Epoch 15/25\n",
      "393/393 [==============================] - 4s 9ms/step - loss: 46.1135\n",
      "Epoch 16/25\n",
      "393/393 [==============================] - 4s 10ms/step - loss: 46.7288\n",
      "Epoch 17/25\n",
      "393/393 [==============================] - 4s 9ms/step - loss: 44.1055\n",
      "Epoch 18/25\n",
      "393/393 [==============================] - 4s 10ms/step - loss: 43.1395\n",
      "Epoch 19/25\n",
      "393/393 [==============================] - 4s 9ms/step - loss: 41.4309\n",
      "Epoch 20/25\n",
      "393/393 [==============================] - 4s 9ms/step - loss: 39.3384\n",
      "Epoch 21/25\n",
      "393/393 [==============================] - 4s 9ms/step - loss: 41.7737\n",
      "Epoch 22/25\n",
      "393/393 [==============================] - 4s 10ms/step - loss: 38.6248\n",
      "Epoch 23/25\n",
      "393/393 [==============================] - 4s 9ms/step - loss: 36.0389\n",
      "Epoch 24/25\n",
      "393/393 [==============================] - 4s 10ms/step - loss: 35.0152\n",
      "Epoch 25/25\n",
      "393/393 [==============================] - 4s 9ms/step - loss: 32.7541\n"
     ]
    },
    {
     "data": {
      "text/plain": [
       "<keras.callbacks.History at 0x7f94a60f9128>"
      ]
     },
     "execution_count": 176,
     "metadata": {
      "tags": []
     },
     "output_type": "execute_result"
    }
   ],
   "source": [
    "model_iq.fit(iq_train_x, iq_train_y, epochs=25, batch_size=1, verbose=1)"
   ]
  },
  {
   "cell_type": "code",
   "execution_count": 0,
   "metadata": {
    "colab": {},
    "colab_type": "code",
    "id": "LyWLg8m8cYkl"
   },
   "outputs": [],
   "source": [
    "iq_test_dates = X_test_iq.index\n",
    "X_test_iq = X_test_iq.values\n",
    "y_test_iq = y_test_iq.values"
   ]
  },
  {
   "cell_type": "code",
   "execution_count": 0,
   "metadata": {
    "colab": {},
    "colab_type": "code",
    "id": "8KhL1TG9cYbT"
   },
   "outputs": [],
   "source": [
    "iq_test_x, iq_test_y = [], []\n",
    "for i in range(7,len(X_test_iq)):\n",
    "    iq_test_x.append(X_test_iq[i-7:i])\n",
    "    iq_test_y.append(y_test_iq[i])\n",
    "iq_test_x, iq_test_y = np.array(iq_test_x), np.array(iq_test_y)"
   ]
  },
  {
   "cell_type": "code",
   "execution_count": 0,
   "metadata": {
    "colab": {
     "base_uri": "https://localhost:8080/",
     "height": 35
    },
    "colab_type": "code",
    "executionInfo": {
     "elapsed": 539,
     "status": "ok",
     "timestamp": 1574901755408,
     "user": {
      "displayName": "Smit Kiri",
      "photoUrl": "https://lh3.googleusercontent.com/-oC3sDatMc6I/AAAAAAAAAAI/AAAAAAAAFIY/4-X3wk9oODk/s64/photo.jpg",
      "userId": "13362116092602570316"
     },
     "user_tz": 300
    },
    "id": "1O6gQf2wcYTO",
    "outputId": "3cabbb78-4136-4996-80ce-ba53e0a8b699"
   },
   "outputs": [
    {
     "data": {
      "text/plain": [
       "(120, 7, 12)"
      ]
     },
     "execution_count": 92,
     "metadata": {
      "tags": []
     },
     "output_type": "execute_result"
    }
   ],
   "source": [
    "iq_test_x.shape"
   ]
  },
  {
   "cell_type": "code",
   "execution_count": 0,
   "metadata": {
    "colab": {},
    "colab_type": "code",
    "id": "hpmzxd_BcYLS"
   },
   "outputs": [],
   "source": [
    "y_pred_iq = model_iq.predict(iq_test_x)\n",
    "y_pred_iq = [int(round(y,0)) for y in y_pred_iq[:,0]]"
   ]
  },
  {
   "cell_type": "code",
   "execution_count": 0,
   "metadata": {
    "colab": {},
    "colab_type": "code",
    "id": "Gl-M2__2c9Uh"
   },
   "outputs": [],
   "source": [
    "y_train_pred_iq = model_iq.predict(iq_train_x)\n",
    "y_train_pred_iq = [int(round(y,0)) for y in y_train_pred_iq[:,0]]"
   ]
  },
  {
   "cell_type": "code",
   "execution_count": 0,
   "metadata": {
    "colab": {
     "base_uri": "https://localhost:8080/",
     "height": 446
    },
    "colab_type": "code",
    "executionInfo": {
     "elapsed": 667,
     "status": "ok",
     "timestamp": 1574905249277,
     "user": {
      "displayName": "Smit Kiri",
      "photoUrl": "https://lh3.googleusercontent.com/-oC3sDatMc6I/AAAAAAAAAAI/AAAAAAAAFIY/4-X3wk9oODk/s64/photo.jpg",
      "userId": "13362116092602570316"
     },
     "user_tz": 300
    },
    "id": "dYYnIEbGc9DB",
    "outputId": "3a43d0c2-096e-40ea-8a15-adbb28f5b1bd"
   },
   "outputs": [
    {
     "data": {
      "text/plain": [
       "<matplotlib.legend.Legend at 0x7f94a5afab00>"
      ]
     },
     "execution_count": 179,
     "metadata": {
      "tags": []
     },
     "output_type": "execute_result"
    },
    {
     "data": {
      "image/png": "[encoded data removed]",
      "text/plain": [
       "<Figure size 1152x504 with 1 Axes>"
      ]
     },
     "metadata": {
      "tags": []
     },
     "output_type": "display_data"
    }
   ],
   "source": [
    "fig = plt.figure(figsize=(16,7))\n",
    "plt.plot(iq_train_dates, y_train_iq, label = \"Actual train\")\n",
    "plt.plot(iq_train_dates[7:], y_train_pred_iq, label = \"Predicted train\")\n",
    "plt.plot(iq_test_dates[7:], y_test_iq[7:], label = \"Actucal test\")\n",
    "plt.plot(iq_test_dates[7:], y_pred_iq, label = \"Predicted test\")\n",
    "plt.legend()"
   ]
  },
  {
   "cell_type": "code",
   "execution_count": 0,
   "metadata": {
    "colab": {},
    "colab_type": "code",
    "id": "vHErhHhtfvgf"
   },
   "outputs": [],
   "source": []
  }
 ],
 "metadata": {
  "colab": {
   "collapsed_sections": [],
   "name": "PCADenguePredictionUsingLSTM.ipynb",
   "provenance": []
  },
  "kernelspec": {
   "display_name": "Python 3",
   "language": "python",
   "name": "python3"
  },
  "language_info": {
   "codemirror_mode": {
    "name": "ipython",
    "version": 3
   },
   "file_extension": ".py",
   "mimetype": "text/x-python",
   "name": "python",
   "nbconvert_exporter": "python",
   "pygments_lexer": "ipython3",
   "version": "3.6.5"
  }
 },
 "nbformat": 4,
 "nbformat_minor": 1
}
